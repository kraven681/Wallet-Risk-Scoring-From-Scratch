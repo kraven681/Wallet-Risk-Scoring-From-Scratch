{
  "nbformat": 4,
  "nbformat_minor": 0,
  "metadata": {
    "colab": {
      "provenance": [],
      "authorship_tag": "ABX9TyOFjVxiWnPoTArHssusSZaK",
      "include_colab_link": true
    },
    "kernelspec": {
      "name": "python3",
      "display_name": "Python 3"
    },
    "language_info": {
      "name": "python"
    }
  },
  "cells": [
    {
      "cell_type": "markdown",
      "metadata": {
        "id": "view-in-github",
        "colab_type": "text"
      },
      "source": [
        "<a href=\"https://colab.research.google.com/github/kraven681/Wallet-Risk-Scoring-From-Scratch/blob/main/Wallet_Risk_Scoring_From_Scratch.ipynb\" target=\"_parent\"><img src=\"https://colab.research.google.com/assets/colab-badge.svg\" alt=\"Open In Colab\"/></a>"
      ]
    },
    {
      "cell_type": "code",
      "execution_count": null,
      "metadata": {
        "id": "XfCS2PpbNAxd"
      },
      "outputs": [],
      "source": [
        "import numpy as np\n",
        "import pandas as pd\n",
        "import matplotlib as plt\n",
        "import seaborn as ans"
      ]
    },
    {
      "cell_type": "code",
      "source": [
        "df = pd.read_csv('/content/Wallet Risk Scoring From Scratch .csv')"
      ],
      "metadata": {
        "id": "47wgc8gvNvCn"
      },
      "execution_count": null,
      "outputs": []
    },
    {
      "cell_type": "code",
      "source": [
        "df.head()"
      ],
      "metadata": {
        "colab": {
          "base_uri": "https://localhost:8080/",
          "height": 206
        },
        "id": "j9ci89w-PQUQ",
        "outputId": "b5f03fb2-ffe6-46df-d38c-d09e86c57c3d"
      },
      "execution_count": null,
      "outputs": [
        {
          "output_type": "execute_result",
          "data": {
            "text/plain": [
              "                                    wallet_id\n",
              "0  0x0039f22efb07a647557c7c5d17854cfd6d489ef3\n",
              "1  0x06b51c6882b27cb05e712185531c1f74996dd988\n",
              "2  0x0795732aacc448030ef374374eaae57d2965c16c\n",
              "3  0x0aaa79f1a86bc8136cd0d1ca0d51964f4e3766f9\n",
              "4  0x0fe383e5abc200055a7f391f94a5f5d1f844b9ae"
            ],
            "text/html": [
              "\n",
              "  <div id=\"df-35a0d901-bfe6-4b29-8fcd-f36d8ab2b095\" class=\"colab-df-container\">\n",
              "    <div>\n",
              "<style scoped>\n",
              "    .dataframe tbody tr th:only-of-type {\n",
              "        vertical-align: middle;\n",
              "    }\n",
              "\n",
              "    .dataframe tbody tr th {\n",
              "        vertical-align: top;\n",
              "    }\n",
              "\n",
              "    .dataframe thead th {\n",
              "        text-align: right;\n",
              "    }\n",
              "</style>\n",
              "<table border=\"1\" class=\"dataframe\">\n",
              "  <thead>\n",
              "    <tr style=\"text-align: right;\">\n",
              "      <th></th>\n",
              "      <th>wallet_id</th>\n",
              "    </tr>\n",
              "  </thead>\n",
              "  <tbody>\n",
              "    <tr>\n",
              "      <th>0</th>\n",
              "      <td>0x0039f22efb07a647557c7c5d17854cfd6d489ef3</td>\n",
              "    </tr>\n",
              "    <tr>\n",
              "      <th>1</th>\n",
              "      <td>0x06b51c6882b27cb05e712185531c1f74996dd988</td>\n",
              "    </tr>\n",
              "    <tr>\n",
              "      <th>2</th>\n",
              "      <td>0x0795732aacc448030ef374374eaae57d2965c16c</td>\n",
              "    </tr>\n",
              "    <tr>\n",
              "      <th>3</th>\n",
              "      <td>0x0aaa79f1a86bc8136cd0d1ca0d51964f4e3766f9</td>\n",
              "    </tr>\n",
              "    <tr>\n",
              "      <th>4</th>\n",
              "      <td>0x0fe383e5abc200055a7f391f94a5f5d1f844b9ae</td>\n",
              "    </tr>\n",
              "  </tbody>\n",
              "</table>\n",
              "</div>\n",
              "    <div class=\"colab-df-buttons\">\n",
              "\n",
              "  <div class=\"colab-df-container\">\n",
              "    <button class=\"colab-df-convert\" onclick=\"convertToInteractive('df-35a0d901-bfe6-4b29-8fcd-f36d8ab2b095')\"\n",
              "            title=\"Convert this dataframe to an interactive table.\"\n",
              "            style=\"display:none;\">\n",
              "\n",
              "  <svg xmlns=\"http://www.w3.org/2000/svg\" height=\"24px\" viewBox=\"0 -960 960 960\">\n",
              "    <path d=\"M120-120v-720h720v720H120Zm60-500h600v-160H180v160Zm220 220h160v-160H400v160Zm0 220h160v-160H400v160ZM180-400h160v-160H180v160Zm440 0h160v-160H620v160ZM180-180h160v-160H180v160Zm440 0h160v-160H620v160Z\"/>\n",
              "  </svg>\n",
              "    </button>\n",
              "\n",
              "  <style>\n",
              "    .colab-df-container {\n",
              "      display:flex;\n",
              "      gap: 12px;\n",
              "    }\n",
              "\n",
              "    .colab-df-convert {\n",
              "      background-color: #E8F0FE;\n",
              "      border: none;\n",
              "      border-radius: 50%;\n",
              "      cursor: pointer;\n",
              "      display: none;\n",
              "      fill: #1967D2;\n",
              "      height: 32px;\n",
              "      padding: 0 0 0 0;\n",
              "      width: 32px;\n",
              "    }\n",
              "\n",
              "    .colab-df-convert:hover {\n",
              "      background-color: #E2EBFA;\n",
              "      box-shadow: 0px 1px 2px rgba(60, 64, 67, 0.3), 0px 1px 3px 1px rgba(60, 64, 67, 0.15);\n",
              "      fill: #174EA6;\n",
              "    }\n",
              "\n",
              "    .colab-df-buttons div {\n",
              "      margin-bottom: 4px;\n",
              "    }\n",
              "\n",
              "    [theme=dark] .colab-df-convert {\n",
              "      background-color: #3B4455;\n",
              "      fill: #D2E3FC;\n",
              "    }\n",
              "\n",
              "    [theme=dark] .colab-df-convert:hover {\n",
              "      background-color: #434B5C;\n",
              "      box-shadow: 0px 1px 3px 1px rgba(0, 0, 0, 0.15);\n",
              "      filter: drop-shadow(0px 1px 2px rgba(0, 0, 0, 0.3));\n",
              "      fill: #FFFFFF;\n",
              "    }\n",
              "  </style>\n",
              "\n",
              "    <script>\n",
              "      const buttonEl =\n",
              "        document.querySelector('#df-35a0d901-bfe6-4b29-8fcd-f36d8ab2b095 button.colab-df-convert');\n",
              "      buttonEl.style.display =\n",
              "        google.colab.kernel.accessAllowed ? 'block' : 'none';\n",
              "\n",
              "      async function convertToInteractive(key) {\n",
              "        const element = document.querySelector('#df-35a0d901-bfe6-4b29-8fcd-f36d8ab2b095');\n",
              "        const dataTable =\n",
              "          await google.colab.kernel.invokeFunction('convertToInteractive',\n",
              "                                                    [key], {});\n",
              "        if (!dataTable) return;\n",
              "\n",
              "        const docLinkHtml = 'Like what you see? Visit the ' +\n",
              "          '<a target=\"_blank\" href=https://colab.research.google.com/notebooks/data_table.ipynb>data table notebook</a>'\n",
              "          + ' to learn more about interactive tables.';\n",
              "        element.innerHTML = '';\n",
              "        dataTable['output_type'] = 'display_data';\n",
              "        await google.colab.output.renderOutput(dataTable, element);\n",
              "        const docLink = document.createElement('div');\n",
              "        docLink.innerHTML = docLinkHtml;\n",
              "        element.appendChild(docLink);\n",
              "      }\n",
              "    </script>\n",
              "  </div>\n",
              "\n",
              "\n",
              "    <div id=\"df-fa51af41-f372-4657-9093-1f10257cd811\">\n",
              "      <button class=\"colab-df-quickchart\" onclick=\"quickchart('df-fa51af41-f372-4657-9093-1f10257cd811')\"\n",
              "                title=\"Suggest charts\"\n",
              "                style=\"display:none;\">\n",
              "\n",
              "<svg xmlns=\"http://www.w3.org/2000/svg\" height=\"24px\"viewBox=\"0 0 24 24\"\n",
              "     width=\"24px\">\n",
              "    <g>\n",
              "        <path d=\"M19 3H5c-1.1 0-2 .9-2 2v14c0 1.1.9 2 2 2h14c1.1 0 2-.9 2-2V5c0-1.1-.9-2-2-2zM9 17H7v-7h2v7zm4 0h-2V7h2v10zm4 0h-2v-4h2v4z\"/>\n",
              "    </g>\n",
              "</svg>\n",
              "      </button>\n",
              "\n",
              "<style>\n",
              "  .colab-df-quickchart {\n",
              "      --bg-color: #E8F0FE;\n",
              "      --fill-color: #1967D2;\n",
              "      --hover-bg-color: #E2EBFA;\n",
              "      --hover-fill-color: #174EA6;\n",
              "      --disabled-fill-color: #AAA;\n",
              "      --disabled-bg-color: #DDD;\n",
              "  }\n",
              "\n",
              "  [theme=dark] .colab-df-quickchart {\n",
              "      --bg-color: #3B4455;\n",
              "      --fill-color: #D2E3FC;\n",
              "      --hover-bg-color: #434B5C;\n",
              "      --hover-fill-color: #FFFFFF;\n",
              "      --disabled-bg-color: #3B4455;\n",
              "      --disabled-fill-color: #666;\n",
              "  }\n",
              "\n",
              "  .colab-df-quickchart {\n",
              "    background-color: var(--bg-color);\n",
              "    border: none;\n",
              "    border-radius: 50%;\n",
              "    cursor: pointer;\n",
              "    display: none;\n",
              "    fill: var(--fill-color);\n",
              "    height: 32px;\n",
              "    padding: 0;\n",
              "    width: 32px;\n",
              "  }\n",
              "\n",
              "  .colab-df-quickchart:hover {\n",
              "    background-color: var(--hover-bg-color);\n",
              "    box-shadow: 0 1px 2px rgba(60, 64, 67, 0.3), 0 1px 3px 1px rgba(60, 64, 67, 0.15);\n",
              "    fill: var(--button-hover-fill-color);\n",
              "  }\n",
              "\n",
              "  .colab-df-quickchart-complete:disabled,\n",
              "  .colab-df-quickchart-complete:disabled:hover {\n",
              "    background-color: var(--disabled-bg-color);\n",
              "    fill: var(--disabled-fill-color);\n",
              "    box-shadow: none;\n",
              "  }\n",
              "\n",
              "  .colab-df-spinner {\n",
              "    border: 2px solid var(--fill-color);\n",
              "    border-color: transparent;\n",
              "    border-bottom-color: var(--fill-color);\n",
              "    animation:\n",
              "      spin 1s steps(1) infinite;\n",
              "  }\n",
              "\n",
              "  @keyframes spin {\n",
              "    0% {\n",
              "      border-color: transparent;\n",
              "      border-bottom-color: var(--fill-color);\n",
              "      border-left-color: var(--fill-color);\n",
              "    }\n",
              "    20% {\n",
              "      border-color: transparent;\n",
              "      border-left-color: var(--fill-color);\n",
              "      border-top-color: var(--fill-color);\n",
              "    }\n",
              "    30% {\n",
              "      border-color: transparent;\n",
              "      border-left-color: var(--fill-color);\n",
              "      border-top-color: var(--fill-color);\n",
              "      border-right-color: var(--fill-color);\n",
              "    }\n",
              "    40% {\n",
              "      border-color: transparent;\n",
              "      border-right-color: var(--fill-color);\n",
              "      border-top-color: var(--fill-color);\n",
              "    }\n",
              "    60% {\n",
              "      border-color: transparent;\n",
              "      border-right-color: var(--fill-color);\n",
              "    }\n",
              "    80% {\n",
              "      border-color: transparent;\n",
              "      border-right-color: var(--fill-color);\n",
              "      border-bottom-color: var(--fill-color);\n",
              "    }\n",
              "    90% {\n",
              "      border-color: transparent;\n",
              "      border-bottom-color: var(--fill-color);\n",
              "    }\n",
              "  }\n",
              "</style>\n",
              "\n",
              "      <script>\n",
              "        async function quickchart(key) {\n",
              "          const quickchartButtonEl =\n",
              "            document.querySelector('#' + key + ' button');\n",
              "          quickchartButtonEl.disabled = true;  // To prevent multiple clicks.\n",
              "          quickchartButtonEl.classList.add('colab-df-spinner');\n",
              "          try {\n",
              "            const charts = await google.colab.kernel.invokeFunction(\n",
              "                'suggestCharts', [key], {});\n",
              "          } catch (error) {\n",
              "            console.error('Error during call to suggestCharts:', error);\n",
              "          }\n",
              "          quickchartButtonEl.classList.remove('colab-df-spinner');\n",
              "          quickchartButtonEl.classList.add('colab-df-quickchart-complete');\n",
              "        }\n",
              "        (() => {\n",
              "          let quickchartButtonEl =\n",
              "            document.querySelector('#df-fa51af41-f372-4657-9093-1f10257cd811 button');\n",
              "          quickchartButtonEl.style.display =\n",
              "            google.colab.kernel.accessAllowed ? 'block' : 'none';\n",
              "        })();\n",
              "      </script>\n",
              "    </div>\n",
              "\n",
              "    </div>\n",
              "  </div>\n"
            ],
            "application/vnd.google.colaboratory.intrinsic+json": {
              "type": "dataframe",
              "variable_name": "df",
              "summary": "{\n  \"name\": \"df\",\n  \"rows\": 103,\n  \"fields\": [\n    {\n      \"column\": \"wallet_id\",\n      \"properties\": {\n        \"dtype\": \"string\",\n        \"num_unique_values\": 103,\n        \"samples\": [\n          \"0x4d997c89bc659a3e8452038a8101161e7e7e53a7\",\n          \"0x93f0891bf71d8abed78e0de0885bd26355bb8b1d\",\n          \"0x880a0af12da55df1197f41697c1a1b61670ed410\"\n        ],\n        \"semantic_type\": \"\",\n        \"description\": \"\"\n      }\n    }\n  ]\n}"
            }
          },
          "metadata": {},
          "execution_count": 114
        }
      ]
    },
    {
      "cell_type": "code",
      "source": [
        "df.info()"
      ],
      "metadata": {
        "colab": {
          "base_uri": "https://localhost:8080/"
        },
        "id": "GiHiZmIHPWJq",
        "outputId": "77be9d9d-b6fc-41a1-a097-45720850e077"
      },
      "execution_count": null,
      "outputs": [
        {
          "output_type": "stream",
          "name": "stdout",
          "text": [
            "<class 'pandas.core.frame.DataFrame'>\n",
            "RangeIndex: 103 entries, 0 to 102\n",
            "Data columns (total 1 columns):\n",
            " #   Column     Non-Null Count  Dtype \n",
            "---  ------     --------------  ----- \n",
            " 0   wallet_id  103 non-null    object\n",
            "dtypes: object(1)\n",
            "memory usage: 956.0+ bytes\n"
          ]
        }
      ]
    },
    {
      "cell_type": "code",
      "source": [
        "df.describe()"
      ],
      "metadata": {
        "colab": {
          "base_uri": "https://localhost:8080/",
          "height": 175
        },
        "id": "HKq7sHlNPctu",
        "outputId": "0f8a4ff4-2f27-4c19-b946-15d1fc9ea190"
      },
      "execution_count": null,
      "outputs": [
        {
          "output_type": "execute_result",
          "data": {
            "text/plain": [
              "                                         wallet_id\n",
              "count                                          103\n",
              "unique                                         103\n",
              "top     0x0039f22efb07a647557c7c5d17854cfd6d489ef3\n",
              "freq                                             1"
            ],
            "text/html": [
              "\n",
              "  <div id=\"df-f17f3b9b-cd7d-4411-9347-81c18ff82276\" class=\"colab-df-container\">\n",
              "    <div>\n",
              "<style scoped>\n",
              "    .dataframe tbody tr th:only-of-type {\n",
              "        vertical-align: middle;\n",
              "    }\n",
              "\n",
              "    .dataframe tbody tr th {\n",
              "        vertical-align: top;\n",
              "    }\n",
              "\n",
              "    .dataframe thead th {\n",
              "        text-align: right;\n",
              "    }\n",
              "</style>\n",
              "<table border=\"1\" class=\"dataframe\">\n",
              "  <thead>\n",
              "    <tr style=\"text-align: right;\">\n",
              "      <th></th>\n",
              "      <th>wallet_id</th>\n",
              "    </tr>\n",
              "  </thead>\n",
              "  <tbody>\n",
              "    <tr>\n",
              "      <th>count</th>\n",
              "      <td>103</td>\n",
              "    </tr>\n",
              "    <tr>\n",
              "      <th>unique</th>\n",
              "      <td>103</td>\n",
              "    </tr>\n",
              "    <tr>\n",
              "      <th>top</th>\n",
              "      <td>0x0039f22efb07a647557c7c5d17854cfd6d489ef3</td>\n",
              "    </tr>\n",
              "    <tr>\n",
              "      <th>freq</th>\n",
              "      <td>1</td>\n",
              "    </tr>\n",
              "  </tbody>\n",
              "</table>\n",
              "</div>\n",
              "    <div class=\"colab-df-buttons\">\n",
              "\n",
              "  <div class=\"colab-df-container\">\n",
              "    <button class=\"colab-df-convert\" onclick=\"convertToInteractive('df-f17f3b9b-cd7d-4411-9347-81c18ff82276')\"\n",
              "            title=\"Convert this dataframe to an interactive table.\"\n",
              "            style=\"display:none;\">\n",
              "\n",
              "  <svg xmlns=\"http://www.w3.org/2000/svg\" height=\"24px\" viewBox=\"0 -960 960 960\">\n",
              "    <path d=\"M120-120v-720h720v720H120Zm60-500h600v-160H180v160Zm220 220h160v-160H400v160Zm0 220h160v-160H400v160ZM180-400h160v-160H180v160Zm440 0h160v-160H620v160ZM180-180h160v-160H180v160Zm440 0h160v-160H620v160Z\"/>\n",
              "  </svg>\n",
              "    </button>\n",
              "\n",
              "  <style>\n",
              "    .colab-df-container {\n",
              "      display:flex;\n",
              "      gap: 12px;\n",
              "    }\n",
              "\n",
              "    .colab-df-convert {\n",
              "      background-color: #E8F0FE;\n",
              "      border: none;\n",
              "      border-radius: 50%;\n",
              "      cursor: pointer;\n",
              "      display: none;\n",
              "      fill: #1967D2;\n",
              "      height: 32px;\n",
              "      padding: 0 0 0 0;\n",
              "      width: 32px;\n",
              "    }\n",
              "\n",
              "    .colab-df-convert:hover {\n",
              "      background-color: #E2EBFA;\n",
              "      box-shadow: 0px 1px 2px rgba(60, 64, 67, 0.3), 0px 1px 3px 1px rgba(60, 64, 67, 0.15);\n",
              "      fill: #174EA6;\n",
              "    }\n",
              "\n",
              "    .colab-df-buttons div {\n",
              "      margin-bottom: 4px;\n",
              "    }\n",
              "\n",
              "    [theme=dark] .colab-df-convert {\n",
              "      background-color: #3B4455;\n",
              "      fill: #D2E3FC;\n",
              "    }\n",
              "\n",
              "    [theme=dark] .colab-df-convert:hover {\n",
              "      background-color: #434B5C;\n",
              "      box-shadow: 0px 1px 3px 1px rgba(0, 0, 0, 0.15);\n",
              "      filter: drop-shadow(0px 1px 2px rgba(0, 0, 0, 0.3));\n",
              "      fill: #FFFFFF;\n",
              "    }\n",
              "  </style>\n",
              "\n",
              "    <script>\n",
              "      const buttonEl =\n",
              "        document.querySelector('#df-f17f3b9b-cd7d-4411-9347-81c18ff82276 button.colab-df-convert');\n",
              "      buttonEl.style.display =\n",
              "        google.colab.kernel.accessAllowed ? 'block' : 'none';\n",
              "\n",
              "      async function convertToInteractive(key) {\n",
              "        const element = document.querySelector('#df-f17f3b9b-cd7d-4411-9347-81c18ff82276');\n",
              "        const dataTable =\n",
              "          await google.colab.kernel.invokeFunction('convertToInteractive',\n",
              "                                                    [key], {});\n",
              "        if (!dataTable) return;\n",
              "\n",
              "        const docLinkHtml = 'Like what you see? Visit the ' +\n",
              "          '<a target=\"_blank\" href=https://colab.research.google.com/notebooks/data_table.ipynb>data table notebook</a>'\n",
              "          + ' to learn more about interactive tables.';\n",
              "        element.innerHTML = '';\n",
              "        dataTable['output_type'] = 'display_data';\n",
              "        await google.colab.output.renderOutput(dataTable, element);\n",
              "        const docLink = document.createElement('div');\n",
              "        docLink.innerHTML = docLinkHtml;\n",
              "        element.appendChild(docLink);\n",
              "      }\n",
              "    </script>\n",
              "  </div>\n",
              "\n",
              "\n",
              "    <div id=\"df-569dfc46-a7a3-4f25-b980-f02e3da45387\">\n",
              "      <button class=\"colab-df-quickchart\" onclick=\"quickchart('df-569dfc46-a7a3-4f25-b980-f02e3da45387')\"\n",
              "                title=\"Suggest charts\"\n",
              "                style=\"display:none;\">\n",
              "\n",
              "<svg xmlns=\"http://www.w3.org/2000/svg\" height=\"24px\"viewBox=\"0 0 24 24\"\n",
              "     width=\"24px\">\n",
              "    <g>\n",
              "        <path d=\"M19 3H5c-1.1 0-2 .9-2 2v14c0 1.1.9 2 2 2h14c1.1 0 2-.9 2-2V5c0-1.1-.9-2-2-2zM9 17H7v-7h2v7zm4 0h-2V7h2v10zm4 0h-2v-4h2v4z\"/>\n",
              "    </g>\n",
              "</svg>\n",
              "      </button>\n",
              "\n",
              "<style>\n",
              "  .colab-df-quickchart {\n",
              "      --bg-color: #E8F0FE;\n",
              "      --fill-color: #1967D2;\n",
              "      --hover-bg-color: #E2EBFA;\n",
              "      --hover-fill-color: #174EA6;\n",
              "      --disabled-fill-color: #AAA;\n",
              "      --disabled-bg-color: #DDD;\n",
              "  }\n",
              "\n",
              "  [theme=dark] .colab-df-quickchart {\n",
              "      --bg-color: #3B4455;\n",
              "      --fill-color: #D2E3FC;\n",
              "      --hover-bg-color: #434B5C;\n",
              "      --hover-fill-color: #FFFFFF;\n",
              "      --disabled-bg-color: #3B4455;\n",
              "      --disabled-fill-color: #666;\n",
              "  }\n",
              "\n",
              "  .colab-df-quickchart {\n",
              "    background-color: var(--bg-color);\n",
              "    border: none;\n",
              "    border-radius: 50%;\n",
              "    cursor: pointer;\n",
              "    display: none;\n",
              "    fill: var(--fill-color);\n",
              "    height: 32px;\n",
              "    padding: 0;\n",
              "    width: 32px;\n",
              "  }\n",
              "\n",
              "  .colab-df-quickchart:hover {\n",
              "    background-color: var(--hover-bg-color);\n",
              "    box-shadow: 0 1px 2px rgba(60, 64, 67, 0.3), 0 1px 3px 1px rgba(60, 64, 67, 0.15);\n",
              "    fill: var(--button-hover-fill-color);\n",
              "  }\n",
              "\n",
              "  .colab-df-quickchart-complete:disabled,\n",
              "  .colab-df-quickchart-complete:disabled:hover {\n",
              "    background-color: var(--disabled-bg-color);\n",
              "    fill: var(--disabled-fill-color);\n",
              "    box-shadow: none;\n",
              "  }\n",
              "\n",
              "  .colab-df-spinner {\n",
              "    border: 2px solid var(--fill-color);\n",
              "    border-color: transparent;\n",
              "    border-bottom-color: var(--fill-color);\n",
              "    animation:\n",
              "      spin 1s steps(1) infinite;\n",
              "  }\n",
              "\n",
              "  @keyframes spin {\n",
              "    0% {\n",
              "      border-color: transparent;\n",
              "      border-bottom-color: var(--fill-color);\n",
              "      border-left-color: var(--fill-color);\n",
              "    }\n",
              "    20% {\n",
              "      border-color: transparent;\n",
              "      border-left-color: var(--fill-color);\n",
              "      border-top-color: var(--fill-color);\n",
              "    }\n",
              "    30% {\n",
              "      border-color: transparent;\n",
              "      border-left-color: var(--fill-color);\n",
              "      border-top-color: var(--fill-color);\n",
              "      border-right-color: var(--fill-color);\n",
              "    }\n",
              "    40% {\n",
              "      border-color: transparent;\n",
              "      border-right-color: var(--fill-color);\n",
              "      border-top-color: var(--fill-color);\n",
              "    }\n",
              "    60% {\n",
              "      border-color: transparent;\n",
              "      border-right-color: var(--fill-color);\n",
              "    }\n",
              "    80% {\n",
              "      border-color: transparent;\n",
              "      border-right-color: var(--fill-color);\n",
              "      border-bottom-color: var(--fill-color);\n",
              "    }\n",
              "    90% {\n",
              "      border-color: transparent;\n",
              "      border-bottom-color: var(--fill-color);\n",
              "    }\n",
              "  }\n",
              "</style>\n",
              "\n",
              "      <script>\n",
              "        async function quickchart(key) {\n",
              "          const quickchartButtonEl =\n",
              "            document.querySelector('#' + key + ' button');\n",
              "          quickchartButtonEl.disabled = true;  // To prevent multiple clicks.\n",
              "          quickchartButtonEl.classList.add('colab-df-spinner');\n",
              "          try {\n",
              "            const charts = await google.colab.kernel.invokeFunction(\n",
              "                'suggestCharts', [key], {});\n",
              "          } catch (error) {\n",
              "            console.error('Error during call to suggestCharts:', error);\n",
              "          }\n",
              "          quickchartButtonEl.classList.remove('colab-df-spinner');\n",
              "          quickchartButtonEl.classList.add('colab-df-quickchart-complete');\n",
              "        }\n",
              "        (() => {\n",
              "          let quickchartButtonEl =\n",
              "            document.querySelector('#df-569dfc46-a7a3-4f25-b980-f02e3da45387 button');\n",
              "          quickchartButtonEl.style.display =\n",
              "            google.colab.kernel.accessAllowed ? 'block' : 'none';\n",
              "        })();\n",
              "      </script>\n",
              "    </div>\n",
              "\n",
              "    </div>\n",
              "  </div>\n"
            ],
            "application/vnd.google.colaboratory.intrinsic+json": {
              "type": "dataframe",
              "summary": "{\n  \"name\": \"df\",\n  \"rows\": 4,\n  \"fields\": [\n    {\n      \"column\": \"wallet_id\",\n      \"properties\": {\n        \"dtype\": \"string\",\n        \"num_unique_values\": 3,\n        \"samples\": [\n          \"103\",\n          \"0x0039f22efb07a647557c7c5d17854cfd6d489ef3\",\n          \"1\"\n        ],\n        \"semantic_type\": \"\",\n        \"description\": \"\"\n      }\n    }\n  ]\n}"
            }
          },
          "metadata": {},
          "execution_count": 116
        }
      ]
    },
    {
      "cell_type": "code",
      "source": [
        "df.dtypes"
      ],
      "metadata": {
        "colab": {
          "base_uri": "https://localhost:8080/",
          "height": 115
        },
        "id": "P3nP55q0Q5FH",
        "outputId": "5f3ec518-cff3-42ef-e316-148fd1e28077"
      },
      "execution_count": null,
      "outputs": [
        {
          "output_type": "execute_result",
          "data": {
            "text/plain": [
              "wallet_id    object\n",
              "dtype: object"
            ],
            "text/html": [
              "<div>\n",
              "<style scoped>\n",
              "    .dataframe tbody tr th:only-of-type {\n",
              "        vertical-align: middle;\n",
              "    }\n",
              "\n",
              "    .dataframe tbody tr th {\n",
              "        vertical-align: top;\n",
              "    }\n",
              "\n",
              "    .dataframe thead th {\n",
              "        text-align: right;\n",
              "    }\n",
              "</style>\n",
              "<table border=\"1\" class=\"dataframe\">\n",
              "  <thead>\n",
              "    <tr style=\"text-align: right;\">\n",
              "      <th></th>\n",
              "      <th>0</th>\n",
              "    </tr>\n",
              "  </thead>\n",
              "  <tbody>\n",
              "    <tr>\n",
              "      <th>wallet_id</th>\n",
              "      <td>object</td>\n",
              "    </tr>\n",
              "  </tbody>\n",
              "</table>\n",
              "</div><br><label><b>dtype:</b> object</label>"
            ]
          },
          "metadata": {},
          "execution_count": 117
        }
      ]
    },
    {
      "cell_type": "code",
      "source": [
        "df.columns"
      ],
      "metadata": {
        "colab": {
          "base_uri": "https://localhost:8080/"
        },
        "id": "jSvcPV7rRDzD",
        "outputId": "2da20b69-d8ed-473e-fade-199548675385"
      },
      "execution_count": null,
      "outputs": [
        {
          "output_type": "execute_result",
          "data": {
            "text/plain": [
              "Index(['wallet_id'], dtype='object')"
            ]
          },
          "metadata": {},
          "execution_count": 118
        }
      ]
    },
    {
      "cell_type": "code",
      "source": [
        "df.isnull().sum()"
      ],
      "metadata": {
        "colab": {
          "base_uri": "https://localhost:8080/",
          "height": 115
        },
        "id": "833XmhTPPkwm",
        "outputId": "c19aeef3-69d8-4a51-8564-bf78c5c5c783"
      },
      "execution_count": null,
      "outputs": [
        {
          "output_type": "execute_result",
          "data": {
            "text/plain": [
              "wallet_id    0\n",
              "dtype: int64"
            ],
            "text/html": [
              "<div>\n",
              "<style scoped>\n",
              "    .dataframe tbody tr th:only-of-type {\n",
              "        vertical-align: middle;\n",
              "    }\n",
              "\n",
              "    .dataframe tbody tr th {\n",
              "        vertical-align: top;\n",
              "    }\n",
              "\n",
              "    .dataframe thead th {\n",
              "        text-align: right;\n",
              "    }\n",
              "</style>\n",
              "<table border=\"1\" class=\"dataframe\">\n",
              "  <thead>\n",
              "    <tr style=\"text-align: right;\">\n",
              "      <th></th>\n",
              "      <th>0</th>\n",
              "    </tr>\n",
              "  </thead>\n",
              "  <tbody>\n",
              "    <tr>\n",
              "      <th>wallet_id</th>\n",
              "      <td>0</td>\n",
              "    </tr>\n",
              "  </tbody>\n",
              "</table>\n",
              "</div><br><label><b>dtype:</b> int64</label>"
            ]
          },
          "metadata": {},
          "execution_count": 119
        }
      ]
    },
    {
      "cell_type": "code",
      "source": [
        "import requests\n",
        "import pandas as pd\n",
        "import time\n",
        "\n",
        "# Load wallet IDs (replace with your list if needed)\n",
        "wallets = [\n",
        "    \"0x0039f22efb07a647557c7c5d17854cfd6d489ef3\",\n",
        "    \"0x06b51c6882b27cb05e712185531c1f74996dd988\",\n",
        "    # Add the remaining wallets (up to 100)\n",
        "]\n",
        "\n",
        "# GraphQL endpoint for Compound V2\n",
        "url = \"https://api.thegraph.com/subgraphs/name/graphprotocol/compound-v2\"\n",
        "\n",
        "# Function to fetch account data from the subgraph\n",
        "def fetch_wallet_data(wallet):\n",
        "    query = \"\"\"\n",
        "    {\n",
        "      account(id: \"%s\") {\n",
        "        id\n",
        "        tokens {\n",
        "          symbol\n",
        "          supplyBalanceUnderlying\n",
        "          borrowBalanceUnderlying\n",
        "        }\n",
        "        countLiquidated\n",
        "        countLiquidator\n",
        "      }\n",
        "    }\n",
        "    \"\"\" % wallet.lower()\n",
        "\n",
        "    response = requests.post(url, json={'query': query})\n",
        "    if response.status_code != 200:\n",
        "        print(f\"Failed for {wallet}\")\n",
        "        return None\n",
        "\n",
        "    data = response.json().get(\"data\", {}).get(\"account\")\n",
        "    if not data:\n",
        "        return {\n",
        "            \"wallet_id\": wallet,\n",
        "            \"total_supplied\": 0,\n",
        "            \"total_borrowed\": 0,\n",
        "            \"num_liquidations\": 0,\n",
        "            \"num_times_liquidator\": 0\n",
        "        }\n",
        "\n",
        "    total_supplied = 0\n",
        "    total_borrowed = 0\n",
        "    for token in data[\"tokens\"]:\n",
        "        total_supplied += float(token.get(\"supplyBalanceUnderlying\", 0))\n",
        "        total_borrowed += float(token.get(\"borrowBalanceUnderlying\", 0))\n",
        "\n",
        "    return {\n",
        "        \"wallet_id\": wallet,\n",
        "        \"total_supplied\": total_supplied,\n",
        "        \"total_borrowed\": total_borrowed,\n",
        "        \"net_position\": total_supplied - total_borrowed,\n",
        "        \"num_liquidations\": int(data.get(\"countLiquidated\", 0)),\n",
        "        \"num_times_liquidator\": int(data.get(\"countLiquidator\", 0))\n",
        "    }\n",
        "\n",
        "# Process all wallets\n",
        "results = []\n",
        "for i, wallet in enumerate(wallets):\n",
        "    print(f\"Fetching {i+1}/{len(wallets)}: {wallet}\")\n",
        "    res = fetch_wallet_data(wallet)\n",
        "    if res:\n",
        "        results.append(res)\n",
        "    time.sleep(0.5)  # Be polite to the API (rate limiting)\n",
        "\n",
        "# Save as DataFrame\n",
        "df = pd.DataFrame(results)\n",
        "df.to_csv(\"compound_wallet_features.csv\", index=False)\n",
        "print(\"Saved: compound_wallet_features.csv\")\n",
        "\n"
      ],
      "metadata": {
        "colab": {
          "base_uri": "https://localhost:8080/"
        },
        "id": "xHJvW5jxc0cp",
        "outputId": "bd666a15-cc69-44ae-d344-8c68208c5815"
      },
      "execution_count": null,
      "outputs": [
        {
          "output_type": "stream",
          "name": "stdout",
          "text": [
            "Fetching 1/2: 0x0039f22efb07a647557c7c5d17854cfd6d489ef3\n",
            "Fetching 2/2: 0x06b51c6882b27cb05e712185531c1f74996dd988\n",
            "Saved: compound_wallet_features.csv\n"
          ]
        }
      ]
    },
    {
      "cell_type": "code",
      "source": [
        "import pandas as pd\n",
        "import requests\n",
        "import time\n",
        "\n",
        "# ✅ Load your wallet list\n",
        "wallets = pd.read_csv(\"/content/Wallet Risk Scoring From Scratch .csv\")[\"wallet_id\"].dropna().unique().tolist()\n",
        "\n",
        "# ✅ Compound V2 Subgraph endpoint\n",
        "SUBGRAPH_URL = \"https://api.thegraph.com/subgraphs/name/graphprotocol/compound-v2\"\n",
        "\n",
        "# ✅ Function to fetch wallet features\n",
        "def fetch_compound_features(wallet):\n",
        "    query = f\"\"\"\n",
        "    {{\n",
        "      account(id: \"{wallet.lower()}\") {{\n",
        "        id\n",
        "        tokens {{\n",
        "          symbol\n",
        "          supplyBalanceUnderlying\n",
        "          borrowBalanceUnderlying\n",
        "        }}\n",
        "        countLiquidated\n",
        "        countLiquidator\n",
        "      }}\n",
        "    }}\n",
        "    \"\"\"\n",
        "    try:\n",
        "        res = requests.post(SUBGRAPH_URL, json={\"query\": query})\n",
        "        res.raise_for_status()\n",
        "        data = res.json()[\"data\"][\"account\"]\n",
        "        if data is None:\n",
        "            return {\n",
        "                \"wallet_id\": wallet,\n",
        "                \"total_supplied\": 0,\n",
        "                \"total_borrowed\": 0,\n",
        "                \"net_position\": 0,\n",
        "                \"num_liquidations\": 0,\n",
        "                \"num_times_liquidator\": 0,\n",
        "            }\n",
        "\n",
        "        supplied = sum(float(t.get(\"supplyBalanceUnderlying\", 0)) for t in data.get(\"tokens\", []))\n",
        "        borrowed = sum(float(t.get(\"borrowBalanceUnderlying\", 0)) for t in data.get(\"tokens\", []))\n",
        "        return {\n",
        "            \"wallet_id\": wallet,\n",
        "            \"total_supplied\": supplied,\n",
        "            \"total_borrowed\": borrowed,\n",
        "            \"net_position\": supplied - borrowed,\n",
        "            \"num_liquidations\": int(data.get(\"countLiquidated\", 0)),\n",
        "            \"num_times_liquidator\": int(data.get(\"countLiquidator\", 0)),\n",
        "        }\n",
        "    except Exception as e:\n",
        "        print(f\"Failed for {wallet[:10]}...: {str(e)}\")\n",
        "        return None\n",
        "\n",
        "# ✅ Loop through all wallets\n",
        "features = []\n",
        "for i, wallet in enumerate(wallets):\n",
        "    print(f\"[{i+1}/{len(wallets)}] Processing {wallet}\")\n",
        "    data = fetch_compound_features(wallet)\n",
        "    if data:\n",
        "        features.append(data)\n",
        "    time.sleep(0.4)  # be kind to the API\n",
        "\n",
        "# ✅ Save the results\n",
        "df = pd.DataFrame(features)\n",
        "df.to_csv(\"compound_wallet_features.csv\", index=False)\n",
        "print(\"Saved to compound_wallet_features.csv\")\n"
      ],
      "metadata": {
        "colab": {
          "base_uri": "https://localhost:8080/"
        },
        "id": "H4kdnlf4dS9B",
        "outputId": "fa16081f-18f8-4944-a552-bf29d3f3dffe"
      },
      "execution_count": null,
      "outputs": [
        {
          "output_type": "stream",
          "name": "stdout",
          "text": [
            "[1/103] Processing 0x0039f22efb07a647557c7c5d17854cfd6d489ef3\n",
            "Failed for 0x0039f22e...: 'data'\n",
            "[2/103] Processing 0x06b51c6882b27cb05e712185531c1f74996dd988\n",
            "Failed for 0x06b51c68...: 'data'\n",
            "[3/103] Processing 0x0795732aacc448030ef374374eaae57d2965c16c\n",
            "Failed for 0x0795732a...: 'data'\n",
            "[4/103] Processing 0x0aaa79f1a86bc8136cd0d1ca0d51964f4e3766f9\n",
            "Failed for 0x0aaa79f1...: 'data'\n",
            "[5/103] Processing 0x0fe383e5abc200055a7f391f94a5f5d1f844b9ae\n",
            "Failed for 0x0fe383e5...: 'data'\n",
            "[6/103] Processing 0x104ae61d8d487ad689969a17807ddc338b445416\n",
            "Failed for 0x104ae61d...: 'data'\n",
            "[7/103] Processing 0x111c7208a7e2af345d36b6d4aace8740d61a3078\n",
            "Failed for 0x111c7208...: 'data'\n",
            "[8/103] Processing 0x124853fecb522c57d9bd5c21231058696ca6d596\n",
            "Failed for 0x124853fe...: 'data'\n",
            "[9/103] Processing 0x13b1c8b0e696aff8b4fee742119b549b605f3cbc\n",
            "Failed for 0x13b1c8b0...: 'data'\n",
            "[10/103] Processing 0x1656f1886c5ab634ac19568cd571bc72f385fdf7\n",
            "Failed for 0x1656f188...: 'data'\n",
            "[11/103] Processing 0x1724e16cb8d0e2aa4d08035bc6b5c56b680a3b22\n",
            "Failed for 0x1724e16c...: 'data'\n",
            "[12/103] Processing 0x19df3e87f73c4aaf4809295561465b993e102668\n",
            "Failed for 0x19df3e87...: 'data'\n",
            "[13/103] Processing 0x1ab2ccad4fc97c9968ea87d4435326715be32872\n",
            "Failed for 0x1ab2ccad...: 'data'\n",
            "[14/103] Processing 0x1c1b30ca93ef57452d53885d97a74f61daf2bf4f\n",
            "Failed for 0x1c1b30ca...: 'data'\n",
            "[15/103] Processing 0x1e43dacdcf863676a6bec8f7d6896d6252fac669\n",
            "Failed for 0x1e43dacd...: 'data'\n",
            "[16/103] Processing 0x22d7510588d90ed5a87e0f838391aaafa707c34b\n",
            "Failed for 0x22d75105...: 'data'\n",
            "[17/103] Processing 0x24b3460622d835c56d9a4fe352966b9bdc6c20af\n",
            "Failed for 0x24b34606...: 'data'\n",
            "[18/103] Processing 0x26750f1f4277221bdb5f6991473c6ece8c821f9d\n",
            "Failed for 0x26750f1f...: 'data'\n",
            "[19/103] Processing 0x27f72a000d8e9f324583f3a3491ea66998275b28\n",
            "Failed for 0x27f72a00...: 'data'\n",
            "[20/103] Processing 0x2844658bf341db96aa247259824f42025e3bcec2\n",
            "Failed for 0x2844658b...: 'data'\n",
            "[21/103] Processing 0x2a2fde3e1beb508fcf7c137a1d5965f13a17825e\n",
            "Failed for 0x2a2fde3e...: 'data'\n",
            "[22/103] Processing 0x330513970efd9e8dd606275fb4c50378989b3204\n",
            "Failed for 0x33051397...: 'data'\n",
            "[23/103] Processing 0x3361bea43c2f5f963f81ac70f64e6fba1f1d2a97\n",
            "Failed for 0x3361bea4...: 'data'\n",
            "[24/103] Processing 0x3867d222ba91236ad4d12c31056626f9e798629c\n",
            "Failed for 0x3867d222...: 'data'\n",
            "[25/103] Processing 0x3a44be4581137019f83021eeee72b7dc57756069\n",
            "Failed for 0x3a44be45...: 'data'\n",
            "[26/103] Processing 0x3e69ad05716bdc834db72c4d6d44439a7c8a902b\n",
            "Failed for 0x3e69ad05...: 'data'\n",
            "[27/103] Processing 0x427f2ac5fdf4245e027d767e7c3ac272a1f40a65\n",
            "Failed for 0x427f2ac5...: 'data'\n",
            "[28/103] Processing 0x4814be124d7fe3b240eb46061f7ddfab468fe122\n",
            "Failed for 0x4814be12...: 'data'\n",
            "[29/103] Processing 0x4839e666e2baf12a51bf004392b35972eeddeabf\n",
            "Failed for 0x4839e666...: 'data'\n",
            "[30/103] Processing 0x4c4d05fe859279c91b074429b5fc451182cec745\n",
            "Failed for 0x4c4d05fe...: 'data'\n",
            "[31/103] Processing 0x4d997c89bc659a3e8452038a8101161e7e7e53a7\n",
            "Failed for 0x4d997c89...: 'data'\n",
            "[32/103] Processing 0x4db0a72edb5ea6c55df929f76e7d5bb14e389860\n",
            "Failed for 0x4db0a72e...: 'data'\n",
            "[33/103] Processing 0x4e61251336c32e4fe6bfd5fab014846599321389\n",
            "Failed for 0x4e612513...: 'data'\n",
            "[34/103] Processing 0x4e6e724f4163b24ffc7ffe662b5f6815b18b4210\n",
            "Failed for 0x4e6e724f...: 'data'\n",
            "[35/103] Processing 0x507b6c0d950702f066a9a1bd5e85206f87b065ba\n",
            "Failed for 0x507b6c0d...: 'data'\n",
            "[36/103] Processing 0x54e19653be9d4143b08994906be0e27555e8834d\n",
            "Failed for 0x54e19653...: 'data'\n",
            "[37/103] Processing 0x56ba823641bfc317afc8459bf27feed6eb9ff59f\n",
            "Failed for 0x56ba8236...: 'data'\n",
            "[38/103] Processing 0x56cc2bffcb3f86a30c492f9d1a671a1f744d1d2f\n",
            "Failed for 0x56cc2bff...: 'data'\n",
            "[39/103] Processing 0x578cea5f899b0dfbf05c7fbcfda1a644b2a47787\n",
            "Failed for 0x578cea5f...: 'data'\n",
            "[40/103] Processing 0x58c2a9099a03750e9842d3e9a7780cdd6aa70b86\n",
            "Failed for 0x58c2a909...: 'data'\n",
            "[41/103] Processing 0x58d68d4bcf9725e40353379cec92b90332561683\n",
            "Failed for 0x58d68d4b...: 'data'\n",
            "[42/103] Processing 0x5e324b4a564512ea7c93088dba2f8c1bf046a3eb\n",
            "Failed for 0x5e324b4a...: 'data'\n",
            "[43/103] Processing 0x612a3500559be7be7703de6dc397afb541a16f7f\n",
            "Failed for 0x612a3500...: 'data'\n",
            "[44/103] Processing 0x623af911f493747c216ad389c7805a37019c662d\n",
            "Failed for 0x623af911...: 'data'\n",
            "[45/103] Processing 0x6a2752a534faacaaa153bffbb973dd84e0e5497b\n",
            "Failed for 0x6a2752a5...: 'data'\n",
            "[46/103] Processing 0x6d69ca3711e504658977367e13c300ab198379f1\n",
            "Failed for 0x6d69ca37...: 'data'\n",
            "[47/103] Processing 0x6e355417f7f56e7927d1cd971f0b5a1e6d538487\n",
            "Failed for 0x6e355417...: 'data'\n",
            "[48/103] Processing 0x70c1864282599a762c674dd9d567b37e13bce755\n",
            "Failed for 0x70c18642...: 'data'\n",
            "[49/103] Processing 0x70d8e4ab175dfe0eab4e9a7f33e0a2d19f44001e\n",
            "Failed for 0x70d8e4ab...: 'data'\n",
            "[50/103] Processing 0x7399dbeebe2f88bc6ac4e3fd7ddb836a4bce322f\n",
            "Failed for 0x7399dbee...: 'data'\n",
            "[51/103] Processing 0x767055590c73b7d2aaa6219da13807c493f91a20\n",
            "Failed for 0x76705559...: 'data'\n",
            "[52/103] Processing 0x7851bdfb64bbecfb40c030d722a1f147dff5db6a\n",
            "Failed for 0x7851bdfb...: 'data'\n",
            "[53/103] Processing 0x7b4636320daa0bc055368a4f9b9d01bd8ac51877\n",
            "Failed for 0x7b463632...: 'data'\n",
            "[54/103] Processing 0x7b57dbe2f2e4912a29754ff3e412ed9507fd8957\n",
            "Failed for 0x7b57dbe2...: 'data'\n",
            "[55/103] Processing 0x7be3dfb5b6fcbae542ea85e76cc19916a20f6c1e\n",
            "Failed for 0x7be3dfb5...: 'data'\n",
            "[56/103] Processing 0x7de76a449cf60ea3e111ff18b28e516d89532152\n",
            "Failed for 0x7de76a44...: 'data'\n",
            "[57/103] Processing 0x7e3eab408b9c76a13305ef34606f17c16f7b33cc\n",
            "Failed for 0x7e3eab40...: 'data'\n",
            "[58/103] Processing 0x7f5e6a28afc9fb0aaf4259d4ff69991b88ebea47\n",
            "Failed for 0x7f5e6a28...: 'data'\n",
            "[59/103] Processing 0x83ea74c67d393c6894c34c464657bda2183a2f1a\n",
            "Failed for 0x83ea74c6...: 'data'\n",
            "[60/103] Processing 0x8441fecef5cc6f697be2c4fc4a36feacede8df67\n",
            "Failed for 0x8441fece...: 'data'\n",
            "[61/103] Processing 0x854a873b8f9bfac36a5eb9c648e285a095a7478d\n",
            "Failed for 0x854a873b...: 'data'\n",
            "[62/103] Processing 0x8587d9f794f06d976c2ec1cfd523983b856f5ca9\n",
            "Failed for 0x8587d9f7...: 'data'\n",
            "[63/103] Processing 0x880a0af12da55df1197f41697c1a1b61670ed410\n",
            "Failed for 0x880a0af1...: 'data'\n",
            "[64/103] Processing 0x8aaece100580b749a20f8ce30338c4e0770b65ed\n",
            "Failed for 0x8aaece10...: 'data'\n",
            "[65/103] Processing 0x8be38ea2b22b706aef313c2de81f7d179024dd30\n",
            "Failed for 0x8be38ea2...: 'data'\n",
            "[66/103] Processing 0x8d900f213db5205c529aaba5d10e71a0ed2646db\n",
            "Failed for 0x8d900f21...: 'data'\n",
            "[67/103] Processing 0x91919344c1dad09772d19ad8ad4f1bcd29c51f27\n",
            "Failed for 0x91919344...: 'data'\n",
            "[68/103] Processing 0x93f0891bf71d8abed78e0de0885bd26355bb8b1d\n",
            "Failed for 0x93f0891b...: 'data'\n",
            "[69/103] Processing 0x96479b087cb8f236a5e2dcbfc50ce63b2f421da6\n",
            "Failed for 0x96479b08...: 'data'\n",
            "[70/103] Processing 0x96bb4447a02b95f1d1e85374cffd565eb22ed2f8\n",
            "Failed for 0x96bb4447...: 'data'\n",
            "[71/103] Processing 0x9a363adc5d382c04d36b09158286328f75672098\n",
            "Failed for 0x9a363adc...: 'data'\n",
            "[72/103] Processing 0x9ad1331c5b6c5a641acffb32719c66a80c6e1a17\n",
            "Failed for 0x9ad1331c...: 'data'\n",
            "[73/103] Processing 0x9ba0d85f71e145ccf15225e59631e5a883d5d74a\n",
            "Failed for 0x9ba0d85f...: 'data'\n",
            "[74/103] Processing 0x9e6ec4e98793970a1307262ba68d37594e58cd78\n",
            "Failed for 0x9e6ec4e9...: 'data'\n",
            "[75/103] Processing 0xa7e94d933eb0c439dda357f61244a485246e97b8\n",
            "Failed for 0xa7e94d93...: 'data'\n",
            "[76/103] Processing 0xa7f3c74f0255796fd5d3ddcf88db769f7a6bf46a\n",
            "Failed for 0xa7f3c74f...: 'data'\n",
            "[77/103] Processing 0xa98dc64bb42575efec7d1e4560c029231ce5da51\n",
            "Failed for 0xa98dc64b...: 'data'\n",
            "[78/103] Processing 0xb271ff7090b39028eb6e711c3f89a3453d5861ee\n",
            "Failed for 0xb271ff70...: 'data'\n",
            "[79/103] Processing 0xb475576594ae44e1f75f534f993cbb7673e4c8b6\n",
            "Failed for 0xb4755765...: 'data'\n",
            "[80/103] Processing 0xb57297c5d02def954794e593db93d0a302e43e5c\n",
            "Failed for 0xb57297c5...: 'data'\n",
            "[81/103] Processing 0xbd4a00764217c13a246f86db58d74541a0c3972a\n",
            "Failed for 0xbd4a0076...: 'data'\n",
            "[82/103] Processing 0xc179d55f7e00e789915760f7d260a1bf6285278b\n",
            "Failed for 0xc179d55f...: 'data'\n",
            "[83/103] Processing 0xc22b8e78394ce52e0034609a67ae3c959daa84bc\n",
            "Failed for 0xc22b8e78...: 'data'\n",
            "[84/103] Processing 0xcbbd9fe837a14258286bbf2e182cbc4e4518c5a3\n",
            "Failed for 0xcbbd9fe8...: 'data'\n",
            "[85/103] Processing 0xcecf5163bb057c1aff4963d9b9a7d2f0bf591710\n",
            "Failed for 0xcecf5163...: 'data'\n",
            "[86/103] Processing 0xcf0033bf27804640e5339e06443e208db5870dd2\n",
            "Failed for 0xcf0033bf...: 'data'\n",
            "[87/103] Processing 0xd0df53e296c1e3115fccc3d7cdf4ba495e593b56\n",
            "Failed for 0xd0df53e2...: 'data'\n",
            "[88/103] Processing 0xd1a3888fd8f490367c6104e10b4154427c02dd9c\n",
            "Failed for 0xd1a3888f...: 'data'\n",
            "[89/103] Processing 0xd334d18fa6bada9a10f361bae42a019ce88a3c33\n",
            "Failed for 0xd334d18f...: 'data'\n",
            "[90/103] Processing 0xd9d3930ffa343f5a0eec7606d045d0843d3a02b4\n",
            "Failed for 0xd9d3930f...: 'data'\n",
            "[91/103] Processing 0xdde73df7bd4d704a89ad8421402701b3a460c6e9\n",
            "Failed for 0xdde73df7...: 'data'\n",
            "[92/103] Processing 0xde92d70253604fd8c5998c8ee3ed282a41b33b7f\n",
            "Failed for 0xde92d702...: 'data'\n",
            "[93/103] Processing 0xded1f838ae6aa5fcd0f13481b37ee88e5bdccb3d\n",
            "Failed for 0xded1f838...: 'data'\n",
            "[94/103] Processing 0xebb8629e8a3ec86cf90cb7600264415640834483\n",
            "Failed for 0xebb8629e...: 'data'\n",
            "[95/103] Processing 0xeded1c8c0a0c532195b8432153f3bfa81dba2a90\n",
            "Failed for 0xeded1c8c...: 'data'\n",
            "[96/103] Processing 0xf10fd8921019615a856c1e95c7cd3632de34edc4\n",
            "Failed for 0xf10fd892...: 'data'\n",
            "[97/103] Processing 0xf340b9f2098f80b86fbc5ede586c319473aa11f3\n",
            "Failed for 0xf340b9f2...: 'data'\n",
            "[98/103] Processing 0xf54f36bca969800fd7d63a68029561309938c09b\n",
            "Failed for 0xf54f36bc...: 'data'\n",
            "[99/103] Processing 0xf60304b534f74977e159b2e159e135475c245526\n",
            "Failed for 0xf60304b5...: 'data'\n",
            "[100/103] Processing 0xf67e8e5805835465f7eba988259db882ab726800\n",
            "Failed for 0xf67e8e58...: 'data'\n",
            "[101/103] Processing 0xf7aa5d0752cfcd41b0a5945867d619a80c405e52\n",
            "Failed for 0xf7aa5d07...: 'data'\n",
            "[102/103] Processing 0xf80a8b9cfff0febf49914c269fb8aead4a22f847\n",
            "Failed for 0xf80a8b9c...: 'data'\n",
            "[103/103] Processing 0xfe5a05c0f8b24fca15a7306f6a4ebb7dcf2186ac\n",
            "Failed for 0xfe5a05c0...: 'data'\n",
            "Saved to compound_wallet_features.csv\n"
          ]
        }
      ]
    },
    {
      "cell_type": "code",
      "source": [
        "import requests\n",
        "import json\n",
        "\n",
        "# Set the GraphQL endpoint for Compound V2\n",
        "url = \"https://api.thegraph.com/subgraphs/name/graphprotocol/compound-v2\"\n",
        "\n",
        "# Wallet address\n",
        "wallet = \"0xfaa0768bde629806739c3a4620656c5d26f44ef2\"\n",
        "\n",
        "# Construct the GraphQL query\n",
        "query = \"\"\"\n",
        "{\n",
        "  account(id: \"%s\") {\n",
        "    id\n",
        "    tokens {\n",
        "      symbol\n",
        "      supplyBalanceUnderlying\n",
        "      borrowBalanceUnderlying\n",
        "    }\n",
        "    countLiquidated\n",
        "    countLiquidator\n",
        "  }\n",
        "}\n",
        "\"\"\" % wallet.lower()\n",
        "\n",
        "# Send POST request\n",
        "response = requests.post(url, json={'query': query})\n",
        "\n",
        "# Check response\n",
        "if response.status_code == 200:\n",
        "    data = response.json()\n",
        "\n",
        "    # Check for GraphQL errors\n",
        "    if \"errors\" in data:\n",
        "        print(\"GraphQL error:\", data[\"errors\"])\n",
        "    elif data.get(\"data\", {}).get(\"account\") is None:\n",
        "        print(f\"No account data found for wallet: {wallet}\")\n",
        "    else:\n",
        "        print(json.dumps(data[\"data\"][\"account\"], indent=2))\n",
        "else:\n",
        "    print(\"Query failed with status code\", response.status_code)\n"
      ],
      "metadata": {
        "colab": {
          "base_uri": "https://localhost:8080/"
        },
        "id": "VqSUayAaeqCV",
        "outputId": "d8032c89-d494-4cf4-f62b-4cb836be1f96"
      },
      "execution_count": null,
      "outputs": [
        {
          "output_type": "stream",
          "name": "stdout",
          "text": [
            "GraphQL error: [{'message': 'This endpoint has been removed. If you have any questions, reach out to support@thegraph.zendesk.com'}]\n"
          ]
        }
      ]
    },
    {
      "cell_type": "code",
      "source": [
        "for i, row in df.iterrows():\n",
        "    total_supplied = row[\"total_supplied\"]\n",
        "    total_borrowed = row[\"total_borrowed\"]\n",
        "    net_position = row[\"net_position\"]\n",
        "    num_liquidations = row[\"num_liquidations\"]\n",
        "    num_times_liquidator = row[\"num_times_liquidator\"]\n",
        "\n",
        "    # Calculate utilization rate\n",
        "    utilization_rate = total_borrowed / total_supplied if total_supplied > 0 else 0\n",
        "\n",
        "    # Scoring\n",
        "    score = 1000\n",
        "\n",
        "    if utilization_rate > 0.8:\n",
        "        score -= 300\n",
        "\n",
        "    score -= 200 * num_liquidations\n",
        "\n",
        "    if net_position < 0:\n",
        "        score -= 100\n",
        "\n",
        "    score += 100 * num_times_liquidator\n",
        "\n",
        "    # Clamp score between 0 and 1000\n",
        "    score = max(0, min(1000, score))\n",
        "\n",
        "    # Assign to DataFrame\n",
        "    df.loc[i, \"score\"] = score\n",
        "\n",
        "\n"
      ],
      "metadata": {
        "id": "ROEgzUjhvjpJ"
      },
      "execution_count": null,
      "outputs": []
    },
    {
      "cell_type": "code",
      "source": [
        "print(df.columns)\n"
      ],
      "metadata": {
        "colab": {
          "base_uri": "https://localhost:8080/"
        },
        "id": "sekJrKGuwjsg",
        "outputId": "04b433b6-79bb-4d3f-e3f9-7755fb7b3ce5"
      },
      "execution_count": null,
      "outputs": [
        {
          "output_type": "stream",
          "name": "stdout",
          "text": [
            "RangeIndex(start=0, stop=0, step=1)\n"
          ]
        }
      ]
    },
    {
      "cell_type": "code",
      "source": [
        "{\n",
        "  \"id\": \"0xfaa076...\",\n",
        "  \"tokens\": [\n",
        "    {\n",
        "      \"symbol\": \"cUSDC\",\n",
        "      \"supplyBalanceUnderlying\": \"54.13\",\n",
        "      \"borrowBalanceUnderlying\": \"0.00\"\n",
        "    }\n",
        "  ],\n",
        "  \"countLiquidated\": 0,\n",
        "  \"countLiquidator\": 1\n",
        "}\n"
      ],
      "metadata": {
        "colab": {
          "base_uri": "https://localhost:8080/"
        },
        "id": "V9KUAt8efOFl",
        "outputId": "7e66c5ef-51d6-4b2a-a51c-1e9bb15d6dbf"
      },
      "execution_count": null,
      "outputs": [
        {
          "output_type": "execute_result",
          "data": {
            "text/plain": [
              "{'id': '0xfaa076...',\n",
              " 'tokens': [{'symbol': 'cUSDC',\n",
              "   'supplyBalanceUnderlying': '54.13',\n",
              "   'borrowBalanceUnderlying': '0.00'}],\n",
              " 'countLiquidated': 0,\n",
              " 'countLiquidator': 1}"
            ]
          },
          "metadata": {},
          "execution_count": 125
        }
      ]
    },
    {
      "cell_type": "code",
      "source": [
        "print(f\"{wallet}: {data}\")\n"
      ],
      "metadata": {
        "colab": {
          "base_uri": "https://localhost:8080/"
        },
        "id": "5yf5dCdGzNgM",
        "outputId": "f645e347-b4a2-453d-96b0-7a0b3556fcbd"
      },
      "execution_count": null,
      "outputs": [
        {
          "output_type": "stream",
          "name": "stdout",
          "text": [
            "0xfaa0768bde629806739c3a4620656c5d26f44ef2: {'errors': [{'message': 'This endpoint has been removed. If you have any questions, reach out to support@thegraph.zendesk.com'}]}\n"
          ]
        }
      ]
    },
    {
      "cell_type": "code",
      "source": [
        "score = 1000  # Assume low risk if wallet has no activity\n"
      ],
      "metadata": {
        "id": "p9aeeexTzh-F"
      },
      "execution_count": null,
      "outputs": []
    },
    {
      "cell_type": "code",
      "source": [
        "print(response.text)\n"
      ],
      "metadata": {
        "colab": {
          "base_uri": "https://localhost:8080/"
        },
        "id": "sa0eh9ozznxL",
        "outputId": "68e88b16-ef9b-470d-81be-8ef9c12da71d"
      },
      "execution_count": null,
      "outputs": [
        {
          "output_type": "stream",
          "name": "stdout",
          "text": [
            "{\n",
            "  \"errors\": [\n",
            "    {\n",
            "      \"message\": \"This endpoint has been removed. If you have any questions, reach out to support@thegraph.zendesk.com\"\n",
            "    }\n",
            "  ]\n",
            "}\n",
            "\n"
          ]
        }
      ]
    },
    {
      "cell_type": "code",
      "source": [
        "time.sleep(1)\n"
      ],
      "metadata": {
        "id": "xlyigY_Vz2CB"
      },
      "execution_count": null,
      "outputs": []
    },
    {
      "cell_type": "code",
      "source": [
        "for i, row in df.iterrows():\n",
        "    score = 1000\n",
        "    ...\n",
        "    row[\"score\"] = score  # ❌ This doesn’t update the dataframe\n"
      ],
      "metadata": {
        "id": "Z24T6Ogf5H0W"
      },
      "execution_count": null,
      "outputs": []
    },
    {
      "cell_type": "code",
      "source": [
        "df.loc[i, \"score\"] = score\n"
      ],
      "metadata": {
        "id": "xF5lI7BG6mrn"
      },
      "execution_count": null,
      "outputs": []
    },
    {
      "cell_type": "code",
      "source": [
        "import pandas as pd\n",
        "import requests\n",
        "import time\n",
        "from tqdm import tqdm\n",
        "\n",
        "url = \"https://api.thegraph.com/subgraphs/name/graphprotocol/compound-v2\"\n",
        "\n",
        "# Read wallet list\n",
        "wallets = pd.read_csv(\"/content/Wallet Risk Scoring From Scratch .csv\")\n",
        "wallets.columns = wallets.columns.str.strip()  # Clean column names\n",
        "results = []\n",
        "\n",
        "def fetch_wallet_data(wallet):\n",
        "    query = \"\"\"\n",
        "    {\n",
        "      account(id: \"%s\") {\n",
        "        id\n",
        "        tokens {\n",
        "          symbol\n",
        "          supplyBalanceUnderlying\n",
        "          borrowBalanceUnderlying\n",
        "        }\n",
        "        countLiquidated\n",
        "        countLiquidator\n",
        "      }\n",
        "    }\n",
        "    \"\"\" % wallet.lower()\n",
        "\n",
        "    response = requests.post(url, json={\"query\": query})\n",
        "    if response.status_code != 200:\n",
        "        print(f\"Failed request for {wallet}: {response.status_code}\")\n",
        "        return None\n",
        "\n",
        "    data = response.json()\n",
        "    if \"errors\" in data or data.get(\"data\", {}).get(\"account\") is None:\n",
        "        print(f\"No account data for {wallet}\")\n",
        "        return None\n",
        "\n",
        "    return data[\"data\"][\"account\"]\n",
        "\n",
        "def compute_score(wallet_data):\n",
        "    total_supplied = 0\n",
        "    total_borrowed = 0\n",
        "    tokens = wallet_data.get(\"tokens\", [])\n",
        "\n",
        "    for token in tokens:\n",
        "        total_supplied += float(token.get(\"supplyBalanceUnderlying\", 0))\n",
        "        total_borrowed += float(token.get(\"borrowBalanceUnderlying\", 0))\n",
        "\n",
        "    net_position = total_supplied - total_borrowed\n",
        "    utilization_rate = total_borrowed / total_supplied if total_supplied > 0 else 0\n",
        "    num_liquidations = int(wallet_data.get(\"countLiquidated\", 0))\n",
        "    num_times_liquidator = int(wallet_data.get(\"countLiquidator\", 0))\n",
        "\n",
        "    # Scoring logic\n",
        "    score = 1000\n",
        "    if utilization_rate > 0.8:\n",
        "        score -= 300\n",
        "    score -= 200 * num_liquidations\n",
        "    if net_position < 0:\n",
        "        score -= 100\n",
        "    score += 100 * num_times_liquidator\n",
        "    score = max(0, min(1000, score))  # Clamp\n",
        "\n",
        "    return score\n",
        "\n",
        "# Process wallets\n",
        "for wallet in tqdm(wallets['wallet_id']):\n",
        "    try:\n",
        "        data = fetch_wallet_data(wallet)\n",
        "        if data is None:\n",
        "            score = 500  # Neutral if no data\n",
        "        else:\n",
        "            score = compute_score(data)\n",
        "        print(f\"{wallet}: {score}\")\n",
        "        results.append({'wallet_id': wallet, 'score': score})\n",
        "        time.sleep(1)  # Slower to avoid rate limits\n",
        "    except Exception as e:\n",
        "        print(f\"Error processing {wallet}: {e}\")\n",
        "        results.append({'wallet_id': wallet, 'score': 0})\n",
        "\n",
        "df_scores = pd.DataFrame(results)\n",
        "df_scores.to_csv(\"wallet_risk_scores.csv\", index=False)\n",
        "print(\"✅ Done: Scores saved to wallet_risk_scores.csv\")\n"
      ],
      "metadata": {
        "colab": {
          "base_uri": "https://localhost:8080/"
        },
        "id": "oB3sl4Yqg0qt",
        "outputId": "33b748b1-8183-4034-8470-adbbc61e15a2"
      },
      "execution_count": null,
      "outputs": [
        {
          "output_type": "stream",
          "name": "stderr",
          "text": [
            "\r  0%|          | 0/103 [00:00<?, ?it/s]"
          ]
        },
        {
          "output_type": "stream",
          "name": "stdout",
          "text": [
            "No account data for 0x0039f22efb07a647557c7c5d17854cfd6d489ef3\n",
            "0x0039f22efb07a647557c7c5d17854cfd6d489ef3: 500\n"
          ]
        },
        {
          "output_type": "stream",
          "name": "stderr",
          "text": [
            "\r  1%|          | 1/103 [00:01<01:51,  1.09s/it]"
          ]
        },
        {
          "output_type": "stream",
          "name": "stdout",
          "text": [
            "No account data for 0x06b51c6882b27cb05e712185531c1f74996dd988\n",
            "0x06b51c6882b27cb05e712185531c1f74996dd988: 500\n"
          ]
        },
        {
          "output_type": "stream",
          "name": "stderr",
          "text": [
            "\r  2%|▏         | 2/103 [00:02<01:48,  1.08s/it]"
          ]
        },
        {
          "output_type": "stream",
          "name": "stdout",
          "text": [
            "No account data for 0x0795732aacc448030ef374374eaae57d2965c16c\n",
            "0x0795732aacc448030ef374374eaae57d2965c16c: 500\n"
          ]
        },
        {
          "output_type": "stream",
          "name": "stderr",
          "text": [
            "\r  3%|▎         | 3/103 [00:03<01:49,  1.10s/it]"
          ]
        },
        {
          "output_type": "stream",
          "name": "stdout",
          "text": [
            "No account data for 0x0aaa79f1a86bc8136cd0d1ca0d51964f4e3766f9\n",
            "0x0aaa79f1a86bc8136cd0d1ca0d51964f4e3766f9: 500\n"
          ]
        },
        {
          "output_type": "stream",
          "name": "stderr",
          "text": [
            "\r  4%|▍         | 4/103 [00:04<01:48,  1.09s/it]"
          ]
        },
        {
          "output_type": "stream",
          "name": "stdout",
          "text": [
            "No account data for 0x0fe383e5abc200055a7f391f94a5f5d1f844b9ae\n",
            "0x0fe383e5abc200055a7f391f94a5f5d1f844b9ae: 500\n"
          ]
        },
        {
          "output_type": "stream",
          "name": "stderr",
          "text": [
            "\r  5%|▍         | 5/103 [00:05<01:46,  1.09s/it]"
          ]
        },
        {
          "output_type": "stream",
          "name": "stdout",
          "text": [
            "No account data for 0x104ae61d8d487ad689969a17807ddc338b445416\n",
            "0x104ae61d8d487ad689969a17807ddc338b445416: 500\n"
          ]
        },
        {
          "output_type": "stream",
          "name": "stderr",
          "text": [
            "\r  6%|▌         | 6/103 [00:06<01:44,  1.08s/it]"
          ]
        },
        {
          "output_type": "stream",
          "name": "stdout",
          "text": [
            "No account data for 0x111c7208a7e2af345d36b6d4aace8740d61a3078\n",
            "0x111c7208a7e2af345d36b6d4aace8740d61a3078: 500\n"
          ]
        },
        {
          "output_type": "stream",
          "name": "stderr",
          "text": [
            "\r  7%|▋         | 7/103 [00:07<01:43,  1.08s/it]"
          ]
        },
        {
          "output_type": "stream",
          "name": "stdout",
          "text": [
            "No account data for 0x124853fecb522c57d9bd5c21231058696ca6d596\n",
            "0x124853fecb522c57d9bd5c21231058696ca6d596: 500\n"
          ]
        },
        {
          "output_type": "stream",
          "name": "stderr",
          "text": [
            "\r  8%|▊         | 8/103 [00:08<01:42,  1.08s/it]"
          ]
        },
        {
          "output_type": "stream",
          "name": "stdout",
          "text": [
            "No account data for 0x13b1c8b0e696aff8b4fee742119b549b605f3cbc\n",
            "0x13b1c8b0e696aff8b4fee742119b549b605f3cbc: 500\n"
          ]
        },
        {
          "output_type": "stream",
          "name": "stderr",
          "text": [
            "\r  9%|▊         | 9/103 [00:09<01:40,  1.07s/it]"
          ]
        },
        {
          "output_type": "stream",
          "name": "stdout",
          "text": [
            "No account data for 0x1656f1886c5ab634ac19568cd571bc72f385fdf7\n",
            "0x1656f1886c5ab634ac19568cd571bc72f385fdf7: 500\n"
          ]
        },
        {
          "output_type": "stream",
          "name": "stderr",
          "text": [
            "\r 10%|▉         | 10/103 [00:10<01:39,  1.07s/it]"
          ]
        },
        {
          "output_type": "stream",
          "name": "stdout",
          "text": [
            "No account data for 0x1724e16cb8d0e2aa4d08035bc6b5c56b680a3b22\n",
            "0x1724e16cb8d0e2aa4d08035bc6b5c56b680a3b22: 500\n"
          ]
        },
        {
          "output_type": "stream",
          "name": "stderr",
          "text": [
            "\r 11%|█         | 11/103 [00:11<01:38,  1.07s/it]"
          ]
        },
        {
          "output_type": "stream",
          "name": "stdout",
          "text": [
            "No account data for 0x19df3e87f73c4aaf4809295561465b993e102668\n",
            "0x19df3e87f73c4aaf4809295561465b993e102668: 500\n"
          ]
        },
        {
          "output_type": "stream",
          "name": "stderr",
          "text": [
            "\r 12%|█▏        | 12/103 [00:12<01:37,  1.07s/it]"
          ]
        },
        {
          "output_type": "stream",
          "name": "stdout",
          "text": [
            "No account data for 0x1ab2ccad4fc97c9968ea87d4435326715be32872\n",
            "0x1ab2ccad4fc97c9968ea87d4435326715be32872: 500\n"
          ]
        },
        {
          "output_type": "stream",
          "name": "stderr",
          "text": [
            "\r 13%|█▎        | 13/103 [00:14<01:37,  1.08s/it]"
          ]
        },
        {
          "output_type": "stream",
          "name": "stdout",
          "text": [
            "No account data for 0x1c1b30ca93ef57452d53885d97a74f61daf2bf4f\n",
            "0x1c1b30ca93ef57452d53885d97a74f61daf2bf4f: 500\n"
          ]
        },
        {
          "output_type": "stream",
          "name": "stderr",
          "text": [
            "\r 14%|█▎        | 14/103 [00:15<01:35,  1.08s/it]"
          ]
        },
        {
          "output_type": "stream",
          "name": "stdout",
          "text": [
            "No account data for 0x1e43dacdcf863676a6bec8f7d6896d6252fac669\n",
            "0x1e43dacdcf863676a6bec8f7d6896d6252fac669: 500\n"
          ]
        },
        {
          "output_type": "stream",
          "name": "stderr",
          "text": [
            "\r 15%|█▍        | 15/103 [00:16<01:34,  1.07s/it]"
          ]
        },
        {
          "output_type": "stream",
          "name": "stdout",
          "text": [
            "No account data for 0x22d7510588d90ed5a87e0f838391aaafa707c34b\n",
            "0x22d7510588d90ed5a87e0f838391aaafa707c34b: 500\n"
          ]
        },
        {
          "output_type": "stream",
          "name": "stderr",
          "text": [
            "\r 16%|█▌        | 16/103 [00:17<01:33,  1.07s/it]"
          ]
        },
        {
          "output_type": "stream",
          "name": "stdout",
          "text": [
            "No account data for 0x24b3460622d835c56d9a4fe352966b9bdc6c20af\n",
            "0x24b3460622d835c56d9a4fe352966b9bdc6c20af: 500\n"
          ]
        },
        {
          "output_type": "stream",
          "name": "stderr",
          "text": [
            "\r 17%|█▋        | 17/103 [00:18<01:32,  1.08s/it]"
          ]
        },
        {
          "output_type": "stream",
          "name": "stdout",
          "text": [
            "No account data for 0x26750f1f4277221bdb5f6991473c6ece8c821f9d\n",
            "0x26750f1f4277221bdb5f6991473c6ece8c821f9d: 500\n"
          ]
        },
        {
          "output_type": "stream",
          "name": "stderr",
          "text": [
            "\r 17%|█▋        | 18/103 [00:19<01:30,  1.07s/it]"
          ]
        },
        {
          "output_type": "stream",
          "name": "stdout",
          "text": [
            "No account data for 0x27f72a000d8e9f324583f3a3491ea66998275b28\n",
            "0x27f72a000d8e9f324583f3a3491ea66998275b28: 500\n"
          ]
        },
        {
          "output_type": "stream",
          "name": "stderr",
          "text": [
            "\r 18%|█▊        | 19/103 [00:20<01:29,  1.07s/it]"
          ]
        },
        {
          "output_type": "stream",
          "name": "stdout",
          "text": [
            "No account data for 0x2844658bf341db96aa247259824f42025e3bcec2\n",
            "0x2844658bf341db96aa247259824f42025e3bcec2: 500\n"
          ]
        },
        {
          "output_type": "stream",
          "name": "stderr",
          "text": [
            "\r 19%|█▉        | 20/103 [00:21<01:29,  1.07s/it]"
          ]
        },
        {
          "output_type": "stream",
          "name": "stdout",
          "text": [
            "No account data for 0x2a2fde3e1beb508fcf7c137a1d5965f13a17825e\n",
            "0x2a2fde3e1beb508fcf7c137a1d5965f13a17825e: 500\n"
          ]
        },
        {
          "output_type": "stream",
          "name": "stderr",
          "text": [
            "\r 20%|██        | 21/103 [00:22<01:27,  1.07s/it]"
          ]
        },
        {
          "output_type": "stream",
          "name": "stdout",
          "text": [
            "No account data for 0x330513970efd9e8dd606275fb4c50378989b3204\n",
            "0x330513970efd9e8dd606275fb4c50378989b3204: 500\n"
          ]
        },
        {
          "output_type": "stream",
          "name": "stderr",
          "text": [
            "\r 21%|██▏       | 22/103 [00:23<01:27,  1.08s/it]"
          ]
        },
        {
          "output_type": "stream",
          "name": "stdout",
          "text": [
            "No account data for 0x3361bea43c2f5f963f81ac70f64e6fba1f1d2a97\n",
            "0x3361bea43c2f5f963f81ac70f64e6fba1f1d2a97: 500\n"
          ]
        },
        {
          "output_type": "stream",
          "name": "stderr",
          "text": [
            "\r 22%|██▏       | 23/103 [00:24<01:25,  1.07s/it]"
          ]
        },
        {
          "output_type": "stream",
          "name": "stdout",
          "text": [
            "No account data for 0x3867d222ba91236ad4d12c31056626f9e798629c\n",
            "0x3867d222ba91236ad4d12c31056626f9e798629c: 500\n"
          ]
        },
        {
          "output_type": "stream",
          "name": "stderr",
          "text": [
            "\r 23%|██▎       | 24/103 [00:25<01:24,  1.07s/it]"
          ]
        },
        {
          "output_type": "stream",
          "name": "stdout",
          "text": [
            "No account data for 0x3a44be4581137019f83021eeee72b7dc57756069\n",
            "0x3a44be4581137019f83021eeee72b7dc57756069: 500\n"
          ]
        },
        {
          "output_type": "stream",
          "name": "stderr",
          "text": [
            "\r 24%|██▍       | 25/103 [00:26<01:24,  1.08s/it]"
          ]
        },
        {
          "output_type": "stream",
          "name": "stdout",
          "text": [
            "No account data for 0x3e69ad05716bdc834db72c4d6d44439a7c8a902b\n",
            "0x3e69ad05716bdc834db72c4d6d44439a7c8a902b: 500\n"
          ]
        },
        {
          "output_type": "stream",
          "name": "stderr",
          "text": [
            "\r 25%|██▌       | 26/103 [00:28<01:24,  1.09s/it]"
          ]
        },
        {
          "output_type": "stream",
          "name": "stdout",
          "text": [
            "No account data for 0x427f2ac5fdf4245e027d767e7c3ac272a1f40a65\n",
            "0x427f2ac5fdf4245e027d767e7c3ac272a1f40a65: 500\n"
          ]
        },
        {
          "output_type": "stream",
          "name": "stderr",
          "text": [
            "\r 26%|██▌       | 27/103 [00:29<01:23,  1.09s/it]"
          ]
        },
        {
          "output_type": "stream",
          "name": "stdout",
          "text": [
            "No account data for 0x4814be124d7fe3b240eb46061f7ddfab468fe122\n",
            "0x4814be124d7fe3b240eb46061f7ddfab468fe122: 500\n"
          ]
        },
        {
          "output_type": "stream",
          "name": "stderr",
          "text": [
            "\r 27%|██▋       | 28/103 [00:30<01:21,  1.08s/it]"
          ]
        },
        {
          "output_type": "stream",
          "name": "stdout",
          "text": [
            "No account data for 0x4839e666e2baf12a51bf004392b35972eeddeabf\n",
            "0x4839e666e2baf12a51bf004392b35972eeddeabf: 500\n"
          ]
        },
        {
          "output_type": "stream",
          "name": "stderr",
          "text": [
            "\r 28%|██▊       | 29/103 [00:31<01:19,  1.08s/it]"
          ]
        },
        {
          "output_type": "stream",
          "name": "stdout",
          "text": [
            "No account data for 0x4c4d05fe859279c91b074429b5fc451182cec745\n",
            "0x4c4d05fe859279c91b074429b5fc451182cec745: 500\n"
          ]
        },
        {
          "output_type": "stream",
          "name": "stderr",
          "text": [
            "\r 29%|██▉       | 30/103 [00:32<01:18,  1.08s/it]"
          ]
        },
        {
          "output_type": "stream",
          "name": "stdout",
          "text": [
            "No account data for 0x4d997c89bc659a3e8452038a8101161e7e7e53a7\n",
            "0x4d997c89bc659a3e8452038a8101161e7e7e53a7: 500\n"
          ]
        },
        {
          "output_type": "stream",
          "name": "stderr",
          "text": [
            "\r 30%|███       | 31/103 [00:33<01:17,  1.07s/it]"
          ]
        },
        {
          "output_type": "stream",
          "name": "stdout",
          "text": [
            "No account data for 0x4db0a72edb5ea6c55df929f76e7d5bb14e389860\n",
            "0x4db0a72edb5ea6c55df929f76e7d5bb14e389860: 500\n"
          ]
        },
        {
          "output_type": "stream",
          "name": "stderr",
          "text": [
            "\r 31%|███       | 32/103 [00:34<01:16,  1.07s/it]"
          ]
        },
        {
          "output_type": "stream",
          "name": "stdout",
          "text": [
            "No account data for 0x4e61251336c32e4fe6bfd5fab014846599321389\n",
            "0x4e61251336c32e4fe6bfd5fab014846599321389: 500\n"
          ]
        },
        {
          "output_type": "stream",
          "name": "stderr",
          "text": [
            "\r 32%|███▏      | 33/103 [00:35<01:14,  1.07s/it]"
          ]
        },
        {
          "output_type": "stream",
          "name": "stdout",
          "text": [
            "No account data for 0x4e6e724f4163b24ffc7ffe662b5f6815b18b4210\n",
            "0x4e6e724f4163b24ffc7ffe662b5f6815b18b4210: 500\n"
          ]
        },
        {
          "output_type": "stream",
          "name": "stderr",
          "text": [
            "\r 33%|███▎      | 34/103 [00:36<01:13,  1.07s/it]"
          ]
        },
        {
          "output_type": "stream",
          "name": "stdout",
          "text": [
            "No account data for 0x507b6c0d950702f066a9a1bd5e85206f87b065ba\n",
            "0x507b6c0d950702f066a9a1bd5e85206f87b065ba: 500\n"
          ]
        },
        {
          "output_type": "stream",
          "name": "stderr",
          "text": [
            "\r 34%|███▍      | 35/103 [00:37<01:12,  1.07s/it]"
          ]
        },
        {
          "output_type": "stream",
          "name": "stdout",
          "text": [
            "No account data for 0x54e19653be9d4143b08994906be0e27555e8834d\n",
            "0x54e19653be9d4143b08994906be0e27555e8834d: 500\n"
          ]
        },
        {
          "output_type": "stream",
          "name": "stderr",
          "text": [
            "\r 35%|███▍      | 36/103 [00:38<01:11,  1.06s/it]"
          ]
        },
        {
          "output_type": "stream",
          "name": "stdout",
          "text": [
            "No account data for 0x56ba823641bfc317afc8459bf27feed6eb9ff59f\n",
            "0x56ba823641bfc317afc8459bf27feed6eb9ff59f: 500\n"
          ]
        },
        {
          "output_type": "stream",
          "name": "stderr",
          "text": [
            "\r 36%|███▌      | 37/103 [00:39<01:10,  1.07s/it]"
          ]
        },
        {
          "output_type": "stream",
          "name": "stdout",
          "text": [
            "No account data for 0x56cc2bffcb3f86a30c492f9d1a671a1f744d1d2f\n",
            "0x56cc2bffcb3f86a30c492f9d1a671a1f744d1d2f: 500\n"
          ]
        },
        {
          "output_type": "stream",
          "name": "stderr",
          "text": [
            "\r 37%|███▋      | 38/103 [00:40<01:09,  1.07s/it]"
          ]
        },
        {
          "output_type": "stream",
          "name": "stdout",
          "text": [
            "No account data for 0x578cea5f899b0dfbf05c7fbcfda1a644b2a47787\n",
            "0x578cea5f899b0dfbf05c7fbcfda1a644b2a47787: 500\n"
          ]
        },
        {
          "output_type": "stream",
          "name": "stderr",
          "text": [
            "\r 38%|███▊      | 39/103 [00:41<01:08,  1.07s/it]"
          ]
        },
        {
          "output_type": "stream",
          "name": "stdout",
          "text": [
            "No account data for 0x58c2a9099a03750e9842d3e9a7780cdd6aa70b86\n",
            "0x58c2a9099a03750e9842d3e9a7780cdd6aa70b86: 500\n"
          ]
        },
        {
          "output_type": "stream",
          "name": "stderr",
          "text": [
            "\r 39%|███▉      | 40/103 [00:43<01:07,  1.07s/it]"
          ]
        },
        {
          "output_type": "stream",
          "name": "stdout",
          "text": [
            "No account data for 0x58d68d4bcf9725e40353379cec92b90332561683\n",
            "0x58d68d4bcf9725e40353379cec92b90332561683: 500\n"
          ]
        },
        {
          "output_type": "stream",
          "name": "stderr",
          "text": [
            "\r 40%|███▉      | 41/103 [00:44<01:06,  1.07s/it]"
          ]
        },
        {
          "output_type": "stream",
          "name": "stdout",
          "text": [
            "No account data for 0x5e324b4a564512ea7c93088dba2f8c1bf046a3eb\n",
            "0x5e324b4a564512ea7c93088dba2f8c1bf046a3eb: 500\n"
          ]
        },
        {
          "output_type": "stream",
          "name": "stderr",
          "text": [
            "\r 41%|████      | 42/103 [00:45<01:05,  1.07s/it]"
          ]
        },
        {
          "output_type": "stream",
          "name": "stdout",
          "text": [
            "No account data for 0x612a3500559be7be7703de6dc397afb541a16f7f\n",
            "0x612a3500559be7be7703de6dc397afb541a16f7f: 500\n"
          ]
        },
        {
          "output_type": "stream",
          "name": "stderr",
          "text": [
            "\r 42%|████▏     | 43/103 [00:46<01:04,  1.07s/it]"
          ]
        },
        {
          "output_type": "stream",
          "name": "stdout",
          "text": [
            "No account data for 0x623af911f493747c216ad389c7805a37019c662d\n",
            "0x623af911f493747c216ad389c7805a37019c662d: 500\n"
          ]
        },
        {
          "output_type": "stream",
          "name": "stderr",
          "text": [
            "\r 43%|████▎     | 44/103 [00:47<01:03,  1.07s/it]"
          ]
        },
        {
          "output_type": "stream",
          "name": "stdout",
          "text": [
            "No account data for 0x6a2752a534faacaaa153bffbb973dd84e0e5497b\n",
            "0x6a2752a534faacaaa153bffbb973dd84e0e5497b: 500\n"
          ]
        },
        {
          "output_type": "stream",
          "name": "stderr",
          "text": [
            "\r 44%|████▎     | 45/103 [00:48<01:04,  1.11s/it]"
          ]
        },
        {
          "output_type": "stream",
          "name": "stdout",
          "text": [
            "No account data for 0x6d69ca3711e504658977367e13c300ab198379f1\n",
            "0x6d69ca3711e504658977367e13c300ab198379f1: 500\n"
          ]
        },
        {
          "output_type": "stream",
          "name": "stderr",
          "text": [
            "\r 45%|████▍     | 46/103 [00:49<01:02,  1.10s/it]"
          ]
        },
        {
          "output_type": "stream",
          "name": "stdout",
          "text": [
            "No account data for 0x6e355417f7f56e7927d1cd971f0b5a1e6d538487\n",
            "0x6e355417f7f56e7927d1cd971f0b5a1e6d538487: 500\n"
          ]
        },
        {
          "output_type": "stream",
          "name": "stderr",
          "text": [
            "\r 46%|████▌     | 47/103 [00:50<01:01,  1.09s/it]"
          ]
        },
        {
          "output_type": "stream",
          "name": "stdout",
          "text": [
            "No account data for 0x70c1864282599a762c674dd9d567b37e13bce755\n",
            "0x70c1864282599a762c674dd9d567b37e13bce755: 500\n"
          ]
        },
        {
          "output_type": "stream",
          "name": "stderr",
          "text": [
            "\r 47%|████▋     | 48/103 [00:51<00:59,  1.08s/it]"
          ]
        },
        {
          "output_type": "stream",
          "name": "stdout",
          "text": [
            "No account data for 0x70d8e4ab175dfe0eab4e9a7f33e0a2d19f44001e\n",
            "0x70d8e4ab175dfe0eab4e9a7f33e0a2d19f44001e: 500\n"
          ]
        },
        {
          "output_type": "stream",
          "name": "stderr",
          "text": [
            "\r 48%|████▊     | 49/103 [00:52<00:58,  1.08s/it]"
          ]
        },
        {
          "output_type": "stream",
          "name": "stdout",
          "text": [
            "No account data for 0x7399dbeebe2f88bc6ac4e3fd7ddb836a4bce322f\n",
            "0x7399dbeebe2f88bc6ac4e3fd7ddb836a4bce322f: 500\n"
          ]
        },
        {
          "output_type": "stream",
          "name": "stderr",
          "text": [
            "\r 49%|████▊     | 50/103 [00:53<00:57,  1.09s/it]"
          ]
        },
        {
          "output_type": "stream",
          "name": "stdout",
          "text": [
            "No account data for 0x767055590c73b7d2aaa6219da13807c493f91a20\n",
            "0x767055590c73b7d2aaa6219da13807c493f91a20: 500\n"
          ]
        },
        {
          "output_type": "stream",
          "name": "stderr",
          "text": [
            "\r 50%|████▉     | 51/103 [00:54<00:56,  1.08s/it]"
          ]
        },
        {
          "output_type": "stream",
          "name": "stdout",
          "text": [
            "No account data for 0x7851bdfb64bbecfb40c030d722a1f147dff5db6a\n",
            "0x7851bdfb64bbecfb40c030d722a1f147dff5db6a: 500\n"
          ]
        },
        {
          "output_type": "stream",
          "name": "stderr",
          "text": [
            "\r 50%|█████     | 52/103 [00:56<00:54,  1.08s/it]"
          ]
        },
        {
          "output_type": "stream",
          "name": "stdout",
          "text": [
            "No account data for 0x7b4636320daa0bc055368a4f9b9d01bd8ac51877\n",
            "0x7b4636320daa0bc055368a4f9b9d01bd8ac51877: 500\n"
          ]
        },
        {
          "output_type": "stream",
          "name": "stderr",
          "text": [
            "\r 51%|█████▏    | 53/103 [00:57<00:53,  1.08s/it]"
          ]
        },
        {
          "output_type": "stream",
          "name": "stdout",
          "text": [
            "No account data for 0x7b57dbe2f2e4912a29754ff3e412ed9507fd8957\n",
            "0x7b57dbe2f2e4912a29754ff3e412ed9507fd8957: 500\n"
          ]
        },
        {
          "output_type": "stream",
          "name": "stderr",
          "text": [
            "\r 52%|█████▏    | 54/103 [00:58<00:52,  1.07s/it]"
          ]
        },
        {
          "output_type": "stream",
          "name": "stdout",
          "text": [
            "No account data for 0x7be3dfb5b6fcbae542ea85e76cc19916a20f6c1e\n",
            "0x7be3dfb5b6fcbae542ea85e76cc19916a20f6c1e: 500\n"
          ]
        },
        {
          "output_type": "stream",
          "name": "stderr",
          "text": [
            "\r 53%|█████▎    | 55/103 [00:59<00:51,  1.07s/it]"
          ]
        },
        {
          "output_type": "stream",
          "name": "stdout",
          "text": [
            "No account data for 0x7de76a449cf60ea3e111ff18b28e516d89532152\n",
            "0x7de76a449cf60ea3e111ff18b28e516d89532152: 500\n"
          ]
        },
        {
          "output_type": "stream",
          "name": "stderr",
          "text": [
            "\r 54%|█████▍    | 56/103 [01:00<00:50,  1.08s/it]"
          ]
        },
        {
          "output_type": "stream",
          "name": "stdout",
          "text": [
            "No account data for 0x7e3eab408b9c76a13305ef34606f17c16f7b33cc\n",
            "0x7e3eab408b9c76a13305ef34606f17c16f7b33cc: 500\n"
          ]
        },
        {
          "output_type": "stream",
          "name": "stderr",
          "text": [
            "\r 55%|█████▌    | 57/103 [01:01<00:49,  1.07s/it]"
          ]
        },
        {
          "output_type": "stream",
          "name": "stdout",
          "text": [
            "No account data for 0x7f5e6a28afc9fb0aaf4259d4ff69991b88ebea47\n",
            "0x7f5e6a28afc9fb0aaf4259d4ff69991b88ebea47: 500\n"
          ]
        },
        {
          "output_type": "stream",
          "name": "stderr",
          "text": [
            "\r 56%|█████▋    | 58/103 [01:02<00:48,  1.07s/it]"
          ]
        },
        {
          "output_type": "stream",
          "name": "stdout",
          "text": [
            "No account data for 0x83ea74c67d393c6894c34c464657bda2183a2f1a\n",
            "0x83ea74c67d393c6894c34c464657bda2183a2f1a: 500\n"
          ]
        },
        {
          "output_type": "stream",
          "name": "stderr",
          "text": [
            "\r 57%|█████▋    | 59/103 [01:03<00:47,  1.07s/it]"
          ]
        },
        {
          "output_type": "stream",
          "name": "stdout",
          "text": [
            "No account data for 0x8441fecef5cc6f697be2c4fc4a36feacede8df67\n",
            "0x8441fecef5cc6f697be2c4fc4a36feacede8df67: 500\n"
          ]
        },
        {
          "output_type": "stream",
          "name": "stderr",
          "text": [
            "\r 58%|█████▊    | 60/103 [01:04<00:46,  1.07s/it]"
          ]
        },
        {
          "output_type": "stream",
          "name": "stdout",
          "text": [
            "No account data for 0x854a873b8f9bfac36a5eb9c648e285a095a7478d\n",
            "0x854a873b8f9bfac36a5eb9c648e285a095a7478d: 500\n"
          ]
        },
        {
          "output_type": "stream",
          "name": "stderr",
          "text": [
            "\r 59%|█████▉    | 61/103 [01:05<00:44,  1.07s/it]"
          ]
        },
        {
          "output_type": "stream",
          "name": "stdout",
          "text": [
            "No account data for 0x8587d9f794f06d976c2ec1cfd523983b856f5ca9\n",
            "0x8587d9f794f06d976c2ec1cfd523983b856f5ca9: 500\n"
          ]
        },
        {
          "output_type": "stream",
          "name": "stderr",
          "text": [
            "\r 60%|██████    | 62/103 [01:06<00:43,  1.07s/it]"
          ]
        },
        {
          "output_type": "stream",
          "name": "stdout",
          "text": [
            "No account data for 0x880a0af12da55df1197f41697c1a1b61670ed410\n",
            "0x880a0af12da55df1197f41697c1a1b61670ed410: 500\n"
          ]
        },
        {
          "output_type": "stream",
          "name": "stderr",
          "text": [
            "\r 61%|██████    | 63/103 [01:07<00:42,  1.07s/it]"
          ]
        },
        {
          "output_type": "stream",
          "name": "stdout",
          "text": [
            "No account data for 0x8aaece100580b749a20f8ce30338c4e0770b65ed\n",
            "0x8aaece100580b749a20f8ce30338c4e0770b65ed: 500\n"
          ]
        },
        {
          "output_type": "stream",
          "name": "stderr",
          "text": [
            "\r 62%|██████▏   | 64/103 [01:08<00:41,  1.06s/it]"
          ]
        },
        {
          "output_type": "stream",
          "name": "stdout",
          "text": [
            "No account data for 0x8be38ea2b22b706aef313c2de81f7d179024dd30\n",
            "0x8be38ea2b22b706aef313c2de81f7d179024dd30: 500\n"
          ]
        },
        {
          "output_type": "stream",
          "name": "stderr",
          "text": [
            "\r 63%|██████▎   | 65/103 [01:09<00:40,  1.06s/it]"
          ]
        },
        {
          "output_type": "stream",
          "name": "stdout",
          "text": [
            "No account data for 0x8d900f213db5205c529aaba5d10e71a0ed2646db\n",
            "0x8d900f213db5205c529aaba5d10e71a0ed2646db: 500\n"
          ]
        },
        {
          "output_type": "stream",
          "name": "stderr",
          "text": [
            "\r 64%|██████▍   | 66/103 [01:10<00:39,  1.06s/it]"
          ]
        },
        {
          "output_type": "stream",
          "name": "stdout",
          "text": [
            "No account data for 0x91919344c1dad09772d19ad8ad4f1bcd29c51f27\n",
            "0x91919344c1dad09772d19ad8ad4f1bcd29c51f27: 500\n"
          ]
        },
        {
          "output_type": "stream",
          "name": "stderr",
          "text": [
            "\r 65%|██████▌   | 67/103 [01:12<00:38,  1.06s/it]"
          ]
        },
        {
          "output_type": "stream",
          "name": "stdout",
          "text": [
            "No account data for 0x93f0891bf71d8abed78e0de0885bd26355bb8b1d\n",
            "0x93f0891bf71d8abed78e0de0885bd26355bb8b1d: 500\n"
          ]
        },
        {
          "output_type": "stream",
          "name": "stderr",
          "text": [
            "\r 66%|██████▌   | 68/103 [01:13<00:37,  1.07s/it]"
          ]
        },
        {
          "output_type": "stream",
          "name": "stdout",
          "text": [
            "No account data for 0x96479b087cb8f236a5e2dcbfc50ce63b2f421da6\n",
            "0x96479b087cb8f236a5e2dcbfc50ce63b2f421da6: 500\n"
          ]
        },
        {
          "output_type": "stream",
          "name": "stderr",
          "text": [
            "\r 67%|██████▋   | 69/103 [01:14<00:36,  1.09s/it]"
          ]
        },
        {
          "output_type": "stream",
          "name": "stdout",
          "text": [
            "No account data for 0x96bb4447a02b95f1d1e85374cffd565eb22ed2f8\n",
            "0x96bb4447a02b95f1d1e85374cffd565eb22ed2f8: 500\n"
          ]
        },
        {
          "output_type": "stream",
          "name": "stderr",
          "text": [
            "\r 68%|██████▊   | 70/103 [01:15<00:35,  1.08s/it]"
          ]
        },
        {
          "output_type": "stream",
          "name": "stdout",
          "text": [
            "No account data for 0x9a363adc5d382c04d36b09158286328f75672098\n",
            "0x9a363adc5d382c04d36b09158286328f75672098: 500\n"
          ]
        },
        {
          "output_type": "stream",
          "name": "stderr",
          "text": [
            "\r 69%|██████▉   | 71/103 [01:16<00:34,  1.08s/it]"
          ]
        },
        {
          "output_type": "stream",
          "name": "stdout",
          "text": [
            "No account data for 0x9ad1331c5b6c5a641acffb32719c66a80c6e1a17\n",
            "0x9ad1331c5b6c5a641acffb32719c66a80c6e1a17: 500\n"
          ]
        },
        {
          "output_type": "stream",
          "name": "stderr",
          "text": [
            "\r 70%|██████▉   | 72/103 [01:17<00:33,  1.09s/it]"
          ]
        },
        {
          "output_type": "stream",
          "name": "stdout",
          "text": [
            "No account data for 0x9ba0d85f71e145ccf15225e59631e5a883d5d74a\n",
            "0x9ba0d85f71e145ccf15225e59631e5a883d5d74a: 500\n"
          ]
        },
        {
          "output_type": "stream",
          "name": "stderr",
          "text": [
            "\r 71%|███████   | 73/103 [01:18<00:32,  1.08s/it]"
          ]
        },
        {
          "output_type": "stream",
          "name": "stdout",
          "text": [
            "No account data for 0x9e6ec4e98793970a1307262ba68d37594e58cd78\n",
            "0x9e6ec4e98793970a1307262ba68d37594e58cd78: 500\n"
          ]
        },
        {
          "output_type": "stream",
          "name": "stderr",
          "text": [
            "\r 72%|███████▏  | 74/103 [01:19<00:31,  1.07s/it]"
          ]
        },
        {
          "output_type": "stream",
          "name": "stdout",
          "text": [
            "No account data for 0xa7e94d933eb0c439dda357f61244a485246e97b8\n",
            "0xa7e94d933eb0c439dda357f61244a485246e97b8: 500\n"
          ]
        },
        {
          "output_type": "stream",
          "name": "stderr",
          "text": [
            "\r 73%|███████▎  | 75/103 [01:20<00:30,  1.08s/it]"
          ]
        },
        {
          "output_type": "stream",
          "name": "stdout",
          "text": [
            "No account data for 0xa7f3c74f0255796fd5d3ddcf88db769f7a6bf46a\n",
            "0xa7f3c74f0255796fd5d3ddcf88db769f7a6bf46a: 500\n"
          ]
        },
        {
          "output_type": "stream",
          "name": "stderr",
          "text": [
            "\r 74%|███████▍  | 76/103 [01:21<00:28,  1.07s/it]"
          ]
        },
        {
          "output_type": "stream",
          "name": "stdout",
          "text": [
            "No account data for 0xa98dc64bb42575efec7d1e4560c029231ce5da51\n",
            "0xa98dc64bb42575efec7d1e4560c029231ce5da51: 500\n"
          ]
        },
        {
          "output_type": "stream",
          "name": "stderr",
          "text": [
            "\r 75%|███████▍  | 77/103 [01:22<00:28,  1.09s/it]"
          ]
        },
        {
          "output_type": "stream",
          "name": "stdout",
          "text": [
            "No account data for 0xb271ff7090b39028eb6e711c3f89a3453d5861ee\n",
            "0xb271ff7090b39028eb6e711c3f89a3453d5861ee: 500\n"
          ]
        },
        {
          "output_type": "stream",
          "name": "stderr",
          "text": [
            "\r 76%|███████▌  | 78/103 [01:23<00:27,  1.08s/it]"
          ]
        },
        {
          "output_type": "stream",
          "name": "stdout",
          "text": [
            "No account data for 0xb475576594ae44e1f75f534f993cbb7673e4c8b6\n",
            "0xb475576594ae44e1f75f534f993cbb7673e4c8b6: 500\n"
          ]
        },
        {
          "output_type": "stream",
          "name": "stderr",
          "text": [
            "\r 77%|███████▋  | 79/103 [01:25<00:26,  1.08s/it]"
          ]
        },
        {
          "output_type": "stream",
          "name": "stdout",
          "text": [
            "No account data for 0xb57297c5d02def954794e593db93d0a302e43e5c\n",
            "0xb57297c5d02def954794e593db93d0a302e43e5c: 500\n"
          ]
        },
        {
          "output_type": "stream",
          "name": "stderr",
          "text": [
            "\r 78%|███████▊  | 80/103 [01:26<00:24,  1.09s/it]"
          ]
        },
        {
          "output_type": "stream",
          "name": "stdout",
          "text": [
            "No account data for 0xbd4a00764217c13a246f86db58d74541a0c3972a\n",
            "0xbd4a00764217c13a246f86db58d74541a0c3972a: 500\n"
          ]
        },
        {
          "output_type": "stream",
          "name": "stderr",
          "text": [
            "\r 79%|███████▊  | 81/103 [01:27<00:24,  1.09s/it]"
          ]
        },
        {
          "output_type": "stream",
          "name": "stdout",
          "text": [
            "No account data for 0xc179d55f7e00e789915760f7d260a1bf6285278b\n",
            "0xc179d55f7e00e789915760f7d260a1bf6285278b: 500\n"
          ]
        },
        {
          "output_type": "stream",
          "name": "stderr",
          "text": [
            "\r 80%|███████▉  | 82/103 [01:28<00:22,  1.08s/it]"
          ]
        },
        {
          "output_type": "stream",
          "name": "stdout",
          "text": [
            "No account data for 0xc22b8e78394ce52e0034609a67ae3c959daa84bc\n",
            "0xc22b8e78394ce52e0034609a67ae3c959daa84bc: 500\n"
          ]
        },
        {
          "output_type": "stream",
          "name": "stderr",
          "text": [
            "\r 81%|████████  | 83/103 [01:29<00:21,  1.09s/it]"
          ]
        },
        {
          "output_type": "stream",
          "name": "stdout",
          "text": [
            "No account data for 0xcbbd9fe837a14258286bbf2e182cbc4e4518c5a3\n",
            "0xcbbd9fe837a14258286bbf2e182cbc4e4518c5a3: 500\n"
          ]
        },
        {
          "output_type": "stream",
          "name": "stderr",
          "text": [
            "\r 82%|████████▏ | 84/103 [01:30<00:20,  1.08s/it]"
          ]
        },
        {
          "output_type": "stream",
          "name": "stdout",
          "text": [
            "No account data for 0xcecf5163bb057c1aff4963d9b9a7d2f0bf591710\n",
            "0xcecf5163bb057c1aff4963d9b9a7d2f0bf591710: 500\n"
          ]
        },
        {
          "output_type": "stream",
          "name": "stderr",
          "text": [
            "\r 83%|████████▎ | 85/103 [01:31<00:19,  1.09s/it]"
          ]
        },
        {
          "output_type": "stream",
          "name": "stdout",
          "text": [
            "No account data for 0xcf0033bf27804640e5339e06443e208db5870dd2\n",
            "0xcf0033bf27804640e5339e06443e208db5870dd2: 500\n"
          ]
        },
        {
          "output_type": "stream",
          "name": "stderr",
          "text": [
            "\r 83%|████████▎ | 86/103 [01:32<00:18,  1.09s/it]"
          ]
        },
        {
          "output_type": "stream",
          "name": "stdout",
          "text": [
            "No account data for 0xd0df53e296c1e3115fccc3d7cdf4ba495e593b56\n",
            "0xd0df53e296c1e3115fccc3d7cdf4ba495e593b56: 500\n"
          ]
        },
        {
          "output_type": "stream",
          "name": "stderr",
          "text": [
            "\r 84%|████████▍ | 87/103 [01:33<00:17,  1.09s/it]"
          ]
        },
        {
          "output_type": "stream",
          "name": "stdout",
          "text": [
            "No account data for 0xd1a3888fd8f490367c6104e10b4154427c02dd9c\n",
            "0xd1a3888fd8f490367c6104e10b4154427c02dd9c: 500\n"
          ]
        },
        {
          "output_type": "stream",
          "name": "stderr",
          "text": [
            "\r 85%|████████▌ | 88/103 [01:34<00:16,  1.08s/it]"
          ]
        },
        {
          "output_type": "stream",
          "name": "stdout",
          "text": [
            "No account data for 0xd334d18fa6bada9a10f361bae42a019ce88a3c33\n",
            "0xd334d18fa6bada9a10f361bae42a019ce88a3c33: 500\n"
          ]
        },
        {
          "output_type": "stream",
          "name": "stderr",
          "text": [
            "\r 86%|████████▋ | 89/103 [01:35<00:15,  1.08s/it]"
          ]
        },
        {
          "output_type": "stream",
          "name": "stdout",
          "text": [
            "No account data for 0xd9d3930ffa343f5a0eec7606d045d0843d3a02b4\n",
            "0xd9d3930ffa343f5a0eec7606d045d0843d3a02b4: 500\n"
          ]
        },
        {
          "output_type": "stream",
          "name": "stderr",
          "text": [
            "\r 87%|████████▋ | 90/103 [01:36<00:14,  1.08s/it]"
          ]
        },
        {
          "output_type": "stream",
          "name": "stdout",
          "text": [
            "No account data for 0xdde73df7bd4d704a89ad8421402701b3a460c6e9\n",
            "0xdde73df7bd4d704a89ad8421402701b3a460c6e9: 500\n"
          ]
        },
        {
          "output_type": "stream",
          "name": "stderr",
          "text": [
            "\r 88%|████████▊ | 91/103 [01:38<00:12,  1.08s/it]"
          ]
        },
        {
          "output_type": "stream",
          "name": "stdout",
          "text": [
            "No account data for 0xde92d70253604fd8c5998c8ee3ed282a41b33b7f\n",
            "0xde92d70253604fd8c5998c8ee3ed282a41b33b7f: 500\n"
          ]
        },
        {
          "output_type": "stream",
          "name": "stderr",
          "text": [
            "\r 89%|████████▉ | 92/103 [01:39<00:11,  1.08s/it]"
          ]
        },
        {
          "output_type": "stream",
          "name": "stdout",
          "text": [
            "No account data for 0xded1f838ae6aa5fcd0f13481b37ee88e5bdccb3d\n",
            "0xded1f838ae6aa5fcd0f13481b37ee88e5bdccb3d: 500\n"
          ]
        },
        {
          "output_type": "stream",
          "name": "stderr",
          "text": [
            "\r 90%|█████████ | 93/103 [01:40<00:10,  1.08s/it]"
          ]
        },
        {
          "output_type": "stream",
          "name": "stdout",
          "text": [
            "No account data for 0xebb8629e8a3ec86cf90cb7600264415640834483\n",
            "0xebb8629e8a3ec86cf90cb7600264415640834483: 500\n"
          ]
        },
        {
          "output_type": "stream",
          "name": "stderr",
          "text": [
            "\r 91%|█████████▏| 94/103 [01:41<00:09,  1.09s/it]"
          ]
        },
        {
          "output_type": "stream",
          "name": "stdout",
          "text": [
            "No account data for 0xeded1c8c0a0c532195b8432153f3bfa81dba2a90\n",
            "0xeded1c8c0a0c532195b8432153f3bfa81dba2a90: 500\n"
          ]
        },
        {
          "output_type": "stream",
          "name": "stderr",
          "text": [
            "\r 92%|█████████▏| 95/103 [01:42<00:08,  1.08s/it]"
          ]
        },
        {
          "output_type": "stream",
          "name": "stdout",
          "text": [
            "No account data for 0xf10fd8921019615a856c1e95c7cd3632de34edc4\n",
            "0xf10fd8921019615a856c1e95c7cd3632de34edc4: 500\n"
          ]
        },
        {
          "output_type": "stream",
          "name": "stderr",
          "text": [
            "\r 93%|█████████▎| 96/103 [01:43<00:07,  1.08s/it]"
          ]
        },
        {
          "output_type": "stream",
          "name": "stdout",
          "text": [
            "No account data for 0xf340b9f2098f80b86fbc5ede586c319473aa11f3\n",
            "0xf340b9f2098f80b86fbc5ede586c319473aa11f3: 500\n"
          ]
        },
        {
          "output_type": "stream",
          "name": "stderr",
          "text": [
            "\r 94%|█████████▍| 97/103 [01:44<00:06,  1.08s/it]"
          ]
        },
        {
          "output_type": "stream",
          "name": "stdout",
          "text": [
            "No account data for 0xf54f36bca969800fd7d63a68029561309938c09b\n",
            "0xf54f36bca969800fd7d63a68029561309938c09b: 500\n"
          ]
        },
        {
          "output_type": "stream",
          "name": "stderr",
          "text": [
            "\r 95%|█████████▌| 98/103 [01:45<00:05,  1.08s/it]"
          ]
        },
        {
          "output_type": "stream",
          "name": "stdout",
          "text": [
            "No account data for 0xf60304b534f74977e159b2e159e135475c245526\n",
            "0xf60304b534f74977e159b2e159e135475c245526: 500\n"
          ]
        },
        {
          "output_type": "stream",
          "name": "stderr",
          "text": [
            "\r 96%|█████████▌| 99/103 [01:46<00:04,  1.08s/it]"
          ]
        },
        {
          "output_type": "stream",
          "name": "stdout",
          "text": [
            "No account data for 0xf67e8e5805835465f7eba988259db882ab726800\n",
            "0xf67e8e5805835465f7eba988259db882ab726800: 500\n"
          ]
        },
        {
          "output_type": "stream",
          "name": "stderr",
          "text": [
            "\r 97%|█████████▋| 100/103 [01:47<00:03,  1.08s/it]"
          ]
        },
        {
          "output_type": "stream",
          "name": "stdout",
          "text": [
            "No account data for 0xf7aa5d0752cfcd41b0a5945867d619a80c405e52\n",
            "0xf7aa5d0752cfcd41b0a5945867d619a80c405e52: 500\n"
          ]
        },
        {
          "output_type": "stream",
          "name": "stderr",
          "text": [
            "\r 98%|█████████▊| 101/103 [01:48<00:02,  1.07s/it]"
          ]
        },
        {
          "output_type": "stream",
          "name": "stdout",
          "text": [
            "No account data for 0xf80a8b9cfff0febf49914c269fb8aead4a22f847\n",
            "0xf80a8b9cfff0febf49914c269fb8aead4a22f847: 500\n"
          ]
        },
        {
          "output_type": "stream",
          "name": "stderr",
          "text": [
            "\r 99%|█████████▉| 102/103 [01:49<00:01,  1.08s/it]"
          ]
        },
        {
          "output_type": "stream",
          "name": "stdout",
          "text": [
            "No account data for 0xfe5a05c0f8b24fca15a7306f6a4ebb7dcf2186ac\n",
            "0xfe5a05c0f8b24fca15a7306f6a4ebb7dcf2186ac: 500\n"
          ]
        },
        {
          "output_type": "stream",
          "name": "stderr",
          "text": [
            "100%|██████████| 103/103 [01:51<00:00,  1.08s/it]"
          ]
        },
        {
          "output_type": "stream",
          "name": "stdout",
          "text": [
            "✅ Done: Scores saved to wallet_risk_scores.csv\n"
          ]
        },
        {
          "output_type": "stream",
          "name": "stderr",
          "text": [
            "\n"
          ]
        }
      ]
    }
  ]
}